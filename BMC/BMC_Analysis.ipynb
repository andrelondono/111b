{
 "cells": [
  {
   "cell_type": "code",
   "execution_count": 2,
   "metadata": {
    "collapsed": false
   },
   "outputs": [
    {
     "name": "stdout",
     "output_type": "stream",
     "text": [
      "Populating the interactive namespace from numpy and matplotlib\n"
     ]
    }
   ],
   "source": [
    "%pylab inline"
   ]
  },
  {
   "cell_type": "markdown",
   "metadata": {
    "collapsed": true
   },
   "source": [
    "Parsed from BrownianMotionParse"
   ]
  },
  {
   "cell_type": "raw",
   "metadata": {
    "collapsed": true
   },
   "source": [
    "dlmwrite('data.txt',Data)"
   ]
  },
  {
   "cell_type": "raw",
   "metadata": {},
   "source": [
    "x y time dx dy dt dr^2 TotalDisplacementSquared"
   ]
  },
  {
   "cell_type": "code",
   "execution_count": 3,
   "metadata": {
    "collapsed": false
   },
   "outputs": [],
   "source": [
    "# sum(sqrt(data[:,3]**2+data[:,4]**2))"
   ]
  },
  {
   "cell_type": "code",
   "execution_count": 4,
   "metadata": {
    "collapsed": false
   },
   "outputs": [
    {
     "name": "stdout",
     "output_type": "stream",
     "text": [
      "LHS:  7.96704734027e-12\n",
      "RHS:  7.3024e-13\n",
      "D: 1.99176183507e-11\n",
      "90.8342455014\n"
     ]
    }
   ],
   "source": [
    "data = np.genfromtxt(\"data/data.txt\",delimiter=',',dtype=None)\n",
    "lhs = mean(data[:,7])\n",
    "print \"LHS: \", lhs\n",
    "d = 2 #dimensions\n",
    "D = 1.8256e-12 #experimental\n",
    "tau = 0.1 #time interval[s]\n",
    "rhs= 2*D*d*tau\n",
    "print \"RHS: \", rhs\n",
    "print \"D:\",lhs/2./d/tau\n",
    "print abs(rhs-lhs)/lhs*100"
   ]
  },
  {
   "cell_type": "code",
   "execution_count": 5,
   "metadata": {
    "collapsed": false
   },
   "outputs": [
    {
     "data": {
      "text/plain": [
       "21.820353144924884"
      ]
     },
     "execution_count": 5,
     "metadata": {},
     "output_type": "execute_result"
    }
   ],
   "source": [
    "lhs/D/d/tau"
   ]
  },
  {
   "cell_type": "code",
   "execution_count": 6,
   "metadata": {
    "collapsed": false
   },
   "outputs": [
    {
     "data": {
      "text/plain": [
       "90.8342455013604"
      ]
     },
     "execution_count": 6,
     "metadata": {},
     "output_type": "execute_result"
    }
   ],
   "source": [
    "abs(rhs-lhs)/lhs*100"
   ]
  },
  {
   "cell_type": "code",
   "execution_count": 7,
   "metadata": {
    "collapsed": false
   },
   "outputs": [
    {
     "data": {
      "text/plain": [
       "(2845, 8)"
      ]
     },
     "execution_count": 7,
     "metadata": {},
     "output_type": "execute_result"
    }
   ],
   "source": [
    "shape(data)"
   ]
  },
  {
   "cell_type": "code",
   "execution_count": 8,
   "metadata": {
    "collapsed": false
   },
   "outputs": [
    {
     "name": "stdout",
     "output_type": "stream",
     "text": [
      "1.29729082257e-11\n"
     ]
    }
   ],
   "source": [
    "data = np.genfromtxt(\"data/data.txt\",delimiter=',',dtype=None)\n",
    "sigma = std(data[:,6])\n",
    "tau = 0.1\n",
    "print sigma/2/tau"
   ]
  },
  {
   "cell_type": "code",
   "execution_count": 9,
   "metadata": {
    "collapsed": false
   },
   "outputs": [
    {
     "data": {
      "text/plain": [
       "<matplotlib.text.Text at 0x112d30e10>"
      ]
     },
     "execution_count": 9,
     "metadata": {},
     "output_type": "execute_result"
    },
    {
     "data": {
      "image/png": "[encoded data removed]",
      "text/plain": [
       "<matplotlib.figure.Figure at 0x112d26c50>"
      ]
     },
     "metadata": {},
     "output_type": "display_data"
    }
   ],
   "source": [
    "fig = plt.figure()\n",
    "ax=fig.add_subplot(111)\n",
    "Trial_number = [1,2,3,4,5]\n",
    "gauss = [1.29729082257e-11,1.34680178631e-11,3.97313391704e-12,3.79405381957e-12,4.26851473797e-12]\n",
    "direct = [1.9918e-11,1.9852e-11,6.4042e-12,6.1784e-12,6.6440e-12]\n",
    "sim = [1.8184e-12,7.2988e-13,3.9260e-13,3.3975e-13, 7.3291e-13]\n",
    "sim_err = [7.7701e-15, 3.2730e-15,1.6801e-15,1.4979e-15, 3.2063e-15]\n",
    "exp = [1.9464e-12,1.1515e-12,4.0377e-13,4.3144e-13,5.0073e-13]\n",
    "plt.plot(Trial_number,gauss,label=\"Gauss\")\n",
    "plt.plot(Trial_number,direct,label=\"Direct\")\n",
    "plt.plot(Trial_number,sim,label=\"Simulation\")\n",
    "plt.plot(Trial_number,exp,label=\"Experimental\")\n",
    "ax.xaxis.set_ticks(Trial_number)\n",
    "plt.legend(loc='upper right',prop={'size':12},numpoints=1)\n",
    "plt.xlabel(\"Trial Number\",fontsize=14)\n",
    "plt.ylabel(\"Diffusion Coefficient\",fontsize=14)"
   ]
  },
  {
   "cell_type": "code",
   "execution_count": 10,
   "metadata": {
    "collapsed": false
   },
   "outputs": [
    {
     "data": {
      "text/plain": [
       "<matplotlib.text.Text at 0x112e0c810>"
      ]
     },
     "execution_count": 10,
     "metadata": {},
     "output_type": "execute_result"
    },
    {
     "data": {
      "image/png": "[encoded data removed]",
      "text/plain": [
       "<matplotlib.figure.Figure at 0x112d22b50>"
      ]
     },
     "metadata": {},
     "output_type": "display_data"
    }
   ],
   "source": [
    "fig = plt.figure()\n",
    "ax=fig.add_subplot(111)\n",
    "sim = [1.8184e-12,7.2988e-13,3.9260e-13,3.3975e-13, 7.3291e-13]\n",
    "sim_err = [7.7701e-15, 3.2730e-15,1.6801e-15,1.4979e-15, 3.2063e-15]\n",
    "exp = [1.9464e-12,1.1515e-12,4.0377e-13,4.3144e-13,5.0073e-13]\n",
    "plt.plot(Trial_number,sim,label=\"Simulation\")\n",
    "plt.plot(Trial_number,exp,label=\"Experimental\")\n",
    "ax.xaxis.set_ticks(Trial_number)\n",
    "plt.legend(loc='upper right',prop={'size':12},numpoints=1)\n",
    "plt.xlabel(\"Trial Number\",fontsize=14)\n",
    "plt.ylabel(\"Diffusion Coefficient\",fontsize=14)"
   ]
  },
  {
   "cell_type": "code",
   "execution_count": 11,
   "metadata": {
    "collapsed": false
   },
   "outputs": [
    {
     "name": "stdout",
     "output_type": "stream",
     "text": [
      "------------------------\n",
      "data num: 2\n",
      "LHS:  7.94089938105e-12\n",
      "RHS:  2.91952e-13\n",
      "D: 1.98522484526e-11\n",
      "96.3234391221\n",
      "gauss:  1.34680178631e-11\n",
      "------------------------\n",
      "data num: 3\n",
      "LHS:  2.56166594105e-12\n",
      "RHS:  1.57064e-13\n",
      "D: 6.40416485263e-12\n",
      "93.8686775085\n",
      "gauss:  3.97313391704e-12\n",
      "------------------------\n",
      "data num: 4\n",
      "LHS:  2.47134886976e-12\n",
      "RHS:  1.359e-13\n",
      "D: 6.17837217441e-12\n",
      "94.5009787302\n",
      "gauss:  3.79405381957e-12\n",
      "------------------------\n",
      "data num: 5\n",
      "LHS:  2.657611513e-12\n",
      "RHS:  2.93164e-13\n",
      "D: 6.64402878249e-12\n",
      "88.9688918577\n",
      "gauss:  4.26851473797e-12\n"
     ]
    }
   ],
   "source": [
    "for i,d_list in zip(np.arange(2,6),[7.2988e-13,3.9266e-13,3.3975e-13,7.3291e-13]):\n",
    "    print \"------------------------\"\n",
    "    data = np.genfromtxt(\"data/data{}.txt\".format(i),delimiter=',',dtype=None)\n",
    "    print \"data num: {}\".format(i)\n",
    "    lhs = mean(data[:,7])\n",
    "    print \"LHS: \", lhs\n",
    "    d = 2 #dimensions\n",
    "#     D = 1.8256e-12 #experimental\n",
    "    D=d_list\n",
    "    tau = 0.1 #time interval[s]\n",
    "    rhs= 2*D*d*tau\n",
    "    print \"RHS: \", rhs\n",
    "    print \"D:\",lhs/2./d/tau\n",
    "    print abs(rhs-lhs)/lhs*100\n",
    "    sigma = std(data[:,6])\n",
    "    tau = 0.1\n",
    "    print \"gauss: \",sigma/2/tau"
   ]
  },
  {
   "cell_type": "code",
   "execution_count": 12,
   "metadata": {
    "collapsed": true
   },
   "outputs": [],
   "source": [
    "def estimated_autocorrelation(x):\n",
    "    \"\"\"\n",
    "    http://stackoverflow.com/q/14297012/190597\n",
    "    http://en.wikipedia.org/wiki/Autocorrelation#Estimation\n",
    "    \"\"\"\n",
    "    n = len(x)\n",
    "    variance = x.var()\n",
    "    x = x-x.mean()\n",
    "    r = np.correlate(x, x, mode = 'full')[-n:]\n",
    "    assert np.allclose(r, np.array([(x[:n-k]*x[-(n-k):]).sum() for k in range(n)]))\n",
    "    result = r/(variance*(np.arange(n, 0, -1)))\n",
    "    return result"
   ]
  },
  {
   "cell_type": "code",
   "execution_count": 13,
   "metadata": {
    "collapsed": false
   },
   "outputs": [
    {
     "data": {
      "text/plain": [
       "(12576,)"
      ]
     },
     "execution_count": 13,
     "metadata": {},
     "output_type": "execute_result"
    }
   ],
   "source": [
    "shape(data[:,0])"
   ]
  },
  {
   "cell_type": "code",
   "execution_count": 14,
   "metadata": {
    "collapsed": false
   },
   "outputs": [],
   "source": [
    "corr = estimated_autocorrelation(data[:,0])"
   ]
  },
  {
   "cell_type": "code",
   "execution_count": 25,
   "metadata": {
    "collapsed": false
   },
   "outputs": [
    {
     "name": "stdout",
     "output_type": "stream",
     "text": [
      "data num: 1\n"
     ]
    },
    {
     "data": {
      "text/plain": [
       "<matplotlib.text.Text at 0x11339f0d0>"
      ]
     },
     "execution_count": 25,
     "metadata": {},
     "output_type": "execute_result"
    },
    {
     "data": {
      "image/png": "[encoded data removed]",
      "text/plain": [
       "<matplotlib.figure.Figure at 0x113152650>"
      ]
     },
     "metadata": {},
     "output_type": "display_data"
    }
   ],
   "source": [
    "i=1\n",
    "data = np.genfromtxt(\"data/{}.txt\".format(i),delimiter=',',dtype=None)\n",
    "print \"data num: {}\".format(i)\n",
    "plt.plot(corr)\n",
    "plt.xlim(0,12000)\n",
    "plt.ylabel(\"Autocorrelation\",fontsize=14)"
   ]
  },
  {
   "cell_type": "code",
   "execution_count": 16,
   "metadata": {
    "collapsed": false
   },
   "outputs": [
    {
     "data": {
      "text/plain": [
       "-0.016285855244644678"
      ]
     },
     "execution_count": 16,
     "metadata": {},
     "output_type": "execute_result"
    }
   ],
   "source": [
    "mean(corr)"
   ]
  },
  {
   "cell_type": "code",
   "execution_count": 16,
   "metadata": {
    "collapsed": false
   },
   "outputs": [
    {
     "data": {
      "text/plain": [
       "0.13196421373854297"
      ]
     },
     "execution_count": 16,
     "metadata": {},
     "output_type": "execute_result"
    }
   ],
   "source": [
    "std(corr)"
   ]
  },
  {
   "cell_type": "code",
   "execution_count": 30,
   "metadata": {
    "collapsed": false
   },
   "outputs": [],
   "source": [
    "onion_velocity_all= np.genfromtxt(\"data/onion_velocity_all.txt\",delimiter=',',dtype=None)\n",
    "onion_velocity_average_insta_all= np.genfromtxt(\"data/onion_velocity_average_instantaneous_all.txt\",delimiter=',',dtype=None)\n",
    "brown_v =np.genfromtxt('data/brownian_velocity_average_instantaneous_all.txt',delimiter=',',dtype=None)"
   ]
  },
  {
   "cell_type": "code",
   "execution_count": 18,
   "metadata": {
    "collapsed": false
   },
   "outputs": [
    {
     "data": {
      "image/png": "[encoded data removed]",
      "text/plain": [
       "<matplotlib.figure.Figure at 0x106622350>"
      ]
     },
     "metadata": {},
     "output_type": "display_data"
    }
   ],
   "source": [
    "hist1 = plt.hist(onion_velocity_all,50)\n",
    "plt.xlabel(\"Velocity\",fontsize=14)\n",
    "plt.ylabel(\"Frequency\",fontsize=14)\n",
    "plt.ticklabel_format(style='sci', axis='x', scilimits=(0,0))"
   ]
  },
  {
   "cell_type": "code",
   "execution_count": 28,
   "metadata": {
    "collapsed": false
   },
   "outputs": [
    {
     "name": "stdout",
     "output_type": "stream",
     "text": [
      "-1.28675126293e-07\n"
     ]
    }
   ],
   "source": [
    "print mean(onion_velocity_all)"
   ]
  },
  {
   "cell_type": "code",
   "execution_count": 76,
   "metadata": {
    "collapsed": false
   },
   "outputs": [
    {
     "data": {
      "text/plain": [
       "<matplotlib.legend.Legend at 0x107951bd0>"
      ]
     },
     "execution_count": 76,
     "metadata": {},
     "output_type": "execute_result"
    },
    {
     "data": {
      "image/png": "[encoded data removed]",
      "text/plain": [
       "<matplotlib.figure.Figure at 0x107951190>"
      ]
     },
     "metadata": {},
     "output_type": "display_data"
    }
   ],
   "source": [
    "from matplotlib.legend_handler import HandlerLine2D\n",
    "import numpy\n",
    "from scipy.optimize import curve_fit\n",
    "import matplotlib.pyplot as plt\n",
    "data = onion_velocity_all\n",
    "width=0.6e-6\n",
    "N, bin_edges = numpy.histogram(data,bins=50)\n",
    "bin_centres = (bin_edges[:-1] + bin_edges[1:])/2\n",
    "\n",
    "# Define model function to be used to fit to the data above:\n",
    "def gauss(x, *p):\n",
    "    A, mu, sigma = p\n",
    "    return A*numpy.exp(-(x-mu)**2/(2.*sigma**2))\n",
    "\n",
    "# p0 is the initial guess for the fitting coefficients (A, mu and sigma above)\n",
    "p0 = [100, 0, 0.5e-5]\n",
    "\n",
    "coeff, var_matrix = curve_fit(gauss, bin_centres, N, p0=p0)\n",
    "\n",
    "# Get the fitted curve\n",
    "hist_fit = gauss(bin_centres, *coeff)\n",
    "# plt.plot(bin_centres, hist_fit, '--',color=\"red\",linewidth=3,label='Fitted data')\n",
    "# # Finally, lets get the fitting parameters, i.e. the mean and standard deviation:\n",
    "# print 'Fitted mean = ', coeff[1]\n",
    "# print 'Fitted standard deviation = ', coeff[2]\n",
    "plt.bar(bin_centres,N,width=width, color='blue',label=\"Brownian+Transport\")#, yerr=error)\n",
    "data = brown_v\n",
    "data[data == inf] = 0\n",
    "data = data[numpy.logical_not(numpy.isnan(data))]\n",
    "width=0.65e-6\n",
    "N, bin_edges = numpy.histogram(data,bins=50)\n",
    "bin_centres = (bin_edges[:-1] + bin_edges[1:])/2\n",
    "plt.bar(bin_centres,N,width=width, color='red',label=\"Brownian only\")#, yerr=error)\n",
    "plt.xlim(-0.00001,0.00001)\n",
    "\n",
    "plt.xlabel(\"Velocity\",fontsize=16)\n",
    "plt.ylabel(\"Count\",fontsize=16)\n",
    "# plt.title(\"Velocity distribution of onion cell and microbead solution\")\n",
    "plt.legend(loc='upper left',prop={'size':11.5},numpoints=1)"
   ]
  },
  {
   "cell_type": "code",
   "execution_count": 82,
   "metadata": {
    "collapsed": false
   },
   "outputs": [
    {
     "name": "stdout",
     "output_type": "stream",
     "text": [
      "nan\n"
     ]
    }
   ],
   "source": [
    "p0 = [100, 0, 0.5e-5]\n",
    "N, bin_edges = numpy.histogram(brown_v,bins=50)\n",
    "bin_centres = (bin_edges[:-1] + bin_edges[1:])/2\n",
    "coeff, var_matrix = curve_fit(gauss, bin_centres, N, p0=p0)\n",
    "hist_fit = gauss(bin_centres, *coeff)\n",
    "ymod=   hist_fit\n",
    "ydata = N\n",
    "chisq=numpy.sum((ydata-ymod)**2)  \n",
    "print chisq"
   ]
  },
  {
   "cell_type": "code",
   "execution_count": 58,
   "metadata": {
    "collapsed": false
   },
   "outputs": [
    {
     "data": {
      "text/plain": [
       "<Container object of 50 artists>"
      ]
     },
     "execution_count": 58,
     "metadata": {},
     "output_type": "execute_result"
    },
    {
     "data": {
      "image/png": "[encoded data removed]",
      "text/plain": [
       "<matplotlib.figure.Figure at 0x106ada190>"
      ]
     },
     "metadata": {},
     "output_type": "display_data"
    }
   ],
   "source": [
    "data = brown_v\n",
    "data[data == inf] = 0\n",
    "data = data[numpy.logical_not(numpy.isnan(data))]\n",
    "width=1e-6\n",
    "N, bin_edges = numpy.histogram(data,bins=50)\n",
    "bin_centres = (bin_edges[:-1] + bin_edges[1:])/2\n",
    "plt.bar(bin_centres,N,width=width, color='blue')#, yerr=error)"
   ]
  },
  {
   "cell_type": "code",
   "execution_count": 32,
   "metadata": {
    "collapsed": false
   },
   "outputs": [
    {
     "data": {
      "text/plain": [
       "1.0111874208078342"
      ]
     },
     "execution_count": 32,
     "metadata": {},
     "output_type": "execute_result"
    }
   ],
   "source": [
    "sqrt(0.15**2+1**2)"
   ]
  },
  {
   "cell_type": "code",
   "execution_count": 31,
   "metadata": {
    "collapsed": false
   },
   "outputs": [
    {
     "name": "stdout",
     "output_type": "stream",
     "text": [
      "nan\n"
     ]
    }
   ],
   "source": [
    "print mean(onion_velocity_average_insta_all)"
   ]
  },
  {
   "cell_type": "code",
   "execution_count": 31,
   "metadata": {
    "collapsed": false
   },
   "outputs": [
    {
     "data": {
      "text/plain": [
       "2.3247429534996402e-11"
      ]
     },
     "execution_count": 31,
     "metadata": {},
     "output_type": "execute_result"
    }
   ],
   "source": [
    "6*pi*2.56940508658e-06*1.0*480e-9"
   ]
  },
  {
   "cell_type": "code",
   "execution_count": 34,
   "metadata": {
    "collapsed": false
   },
   "outputs": [
    {
     "data": {
      "text/plain": [
       "2.064e-05"
      ]
     },
     "execution_count": 34,
     "metadata": {},
     "output_type": "execute_result"
    }
   ],
   "source": [
    "0.48e-6*43"
   ]
  },
  {
   "cell_type": "code",
   "execution_count": 35,
   "metadata": {
    "collapsed": false
   },
   "outputs": [
    {
     "data": {
      "text/plain": [
       "4.798269456023257e-16"
      ]
     },
     "execution_count": 35,
     "metadata": {},
     "output_type": "execute_result"
    }
   ],
   "source": [
    "6*pi*2.56940508658e-06*1.0*480e-9*0.48e-6*43"
   ]
  },
  {
   "cell_type": "markdown",
   "metadata": {},
   "source": [
    "Tried fitting a Gaussian but that is not a good fit because the goodness-of-fit chi squared is  1621.833 which is large. "
   ]
  },
  {
   "cell_type": "code",
   "execution_count": 27,
   "metadata": {
    "collapsed": false
   },
   "outputs": [
    {
     "name": "stdout",
     "output_type": "stream",
     "text": [
      "1621.83300317\n"
     ]
    }
   ],
   "source": [
    "ymod=   hist_fit\n",
    "ydata = N\n",
    "chisq=numpy.sum((ydata-ymod)**2)  \n",
    "print chisq"
   ]
  },
  {
   "cell_type": "code",
   "execution_count": 24,
   "metadata": {
    "collapsed": true
   },
   "outputs": [],
   "source": [
    "from numpy import inf\n",
    "onion_velocity_average_insta_all[onion_velocity_average_insta_all == inf] = 0\n",
    "onion_velocity_average_insta_all = onion_velocity_average_insta_all[numpy.logical_not(numpy.isnan(onion_velocity_average_insta_all))]"
   ]
  },
  {
   "cell_type": "code",
   "execution_count": 25,
   "metadata": {
    "collapsed": false
   },
   "outputs": [
    {
     "data": {
      "image/png": "[encoded data removed]",
      "text/plain": [
       "<matplotlib.figure.Figure at 0x1067a12d0>"
      ]
     },
     "metadata": {},
     "output_type": "display_data"
    }
   ],
   "source": [
    "hist2 = plt.hist(onion_velocity_average_insta_all,50)\n",
    "plt.xlabel(\"Average Instantaneous Velocity\",fontsize=14)\n",
    "plt.ylabel(\"Count\",fontsize=14)\n",
    "plt.tight_layout()\n",
    "plt.ticklabel_format(style='sci', axis='x', scilimits=(0,0))"
   ]
  },
  {
   "cell_type": "markdown",
   "metadata": {},
   "source": [
    "computes the average of the magnitude of the instaneous velcoities of the particles "
   ]
  },
  {
   "cell_type": "markdown",
   "metadata": {
    "collapsed": true
   },
   "source": [
    "# Linear Fit "
   ]
  },
  {
   "cell_type": "code",
   "execution_count": 33,
   "metadata": {
    "collapsed": true
   },
   "outputs": [],
   "source": [
    "def fit_and_plot(x,y,xlabel=\"\",ylabel=\"\",title=\"\",zeroed=False,annotate_fit= True,right_words = False,error_bar=\"\",sci_lim = False,annotate=\"\",right_annotate=False,marker='o'):\n",
    "    fig = plt.figure()\n",
    "    ax1 = fig.add_subplot(111)\n",
    "    ax1.plot(x,y,'{}'.format(marker))\n",
    "    z = np.polyfit(x,y, 1) \n",
    "    p = np.poly1d(z)\n",
    "    if zeroed : \n",
    "        a = np.linspace(0,max(x))\n",
    "    else:\n",
    "        a = np.linspace(min(x),max(x))\n",
    "    ax1.plot(a, p(np.linspace(min(x),max(x))),color=\"red\")\n",
    "    if annotate_fit: \n",
    "        slope = z[0]\n",
    "        intercept = z[1]\n",
    "        if right_words:    \n",
    "            ax1.text(0.48,0.85,\"y= %.5f x + %.5f\"%(slope,intercept), fontsize=13,transform=ax1.transAxes)\n",
    "        else:\n",
    "            ax1.text(0.03,0.85,\"y= %.5f x + %.5f\"%(slope,intercept), fontsize=13,transform=ax1.transAxes)\n",
    "    if title !=\"\":\n",
    "        plt.title(title,fontsize=13 )    \n",
    "    plt.xlabel(xlabel,fontsize=12)\n",
    "    plt.ylabel(ylabel,fontsize=12)\n",
    "    if annotate!=\"\":\n",
    "        if right_annotate: \n",
    "            ax1.text(0.48,0.85,annotate, fontsize=13,transform=ax1.transAxes)\n",
    "    if error_bar!=\"\":\n",
    "        ax1.errorbar(x, y, yerr=error_bar, fmt='o')\n",
    "    if sci_lim:\n",
    "        plt.ticklabel_format(style='sci', axis='x', scilimits=(0,0))\n",
    "    plt.tick_params(axis='both', which='major', labelsize=12)\n",
    "    plt.tick_params(axis='both', which='minor', labelsize=12)\n",
    "    return p"
   ]
  },
  {
   "cell_type": "code",
   "execution_count": 53,
   "metadata": {
    "collapsed": false
   },
   "outputs": [
    {
     "data": {
      "text/plain": [
       "[<matplotlib.lines.Line2D at 0x11342f090>]"
      ]
     },
     "execution_count": 53,
     "metadata": {},
     "output_type": "execute_result"
    },
    {
     "data": {
      "image/png": "[encoded data removed]",
      "text/plain": [
       "<matplotlib.figure.Figure at 0x1130feb50>"
      ]
     },
     "metadata": {},
     "output_type": "display_data"
    }
   ],
   "source": [
    "data = np.genfromtxt(\"data/data.txt\",delimiter=',',dtype=None)\n",
    "ith_pcl=30\n",
    "dr2 = data[:,7]\n",
    "t = data[:,3]#np.arange(len(dr2))data\n",
    "# fit_and_plot(t,dr2)\n",
    "plt.plot(t,dr2)"
   ]
  },
  {
   "cell_type": "code",
   "execution_count": 49,
   "metadata": {
    "collapsed": false
   },
   "outputs": [
    {
     "data": {
      "text/plain": [
       "3.136e-13"
      ]
     },
     "execution_count": 49,
     "metadata": {},
     "output_type": "execute_result"
    }
   ],
   "source": [
    "data[1,7]"
   ]
  },
  {
   "cell_type": "code",
   "execution_count": 48,
   "metadata": {
    "collapsed": false
   },
   "outputs": [
    {
     "data": {
      "text/plain": [
       "(2845,)"
      ]
     },
     "execution_count": 48,
     "metadata": {},
     "output_type": "execute_result"
    }
   ],
   "source": [
    "shape(data[:,7])"
   ]
  },
  {
   "cell_type": "code",
   "execution_count": 40,
   "metadata": {
    "collapsed": false
   },
   "outputs": [
    {
     "data": {
      "text/plain": [
       "(2845,)"
      ]
     },
     "execution_count": 40,
     "metadata": {},
     "output_type": "execute_result"
    }
   ],
   "source": [
    "shape(dr2)"
   ]
  },
  {
   "cell_type": "code",
   "execution_count": 39,
   "metadata": {
    "collapsed": false
   },
   "outputs": [
    {
     "data": {
      "text/plain": [
       "[<matplotlib.lines.Line2D at 0x112d67450>]"
      ]
     },
     "execution_count": 39,
     "metadata": {},
     "output_type": "execute_result"
    },
    {
     "data": {
      "image/png": "[encoded data removed]",
      "text/plain": [
       "<matplotlib.figure.Figure at 0x113141a90>"
      ]
     },
     "metadata": {},
     "output_type": "display_data"
    }
   ],
   "source": [
    "plt.plot(dr2)"
   ]
  },
  {
   "cell_type": "code",
   "execution_count": null,
   "metadata": {
    "collapsed": true
   },
   "outputs": [],
   "source": []
  }
 ],
 "metadata": {
  "kernelspec": {
   "display_name": "Python 2",
   "language": "python",
   "name": "python2"
  },
  "language_info": {
   "codemirror_mode": {
    "name": "ipython",
    "version": 2
   },
   "file_extension": ".py",
   "mimetype": "text/x-python",
   "name": "python",
   "nbconvert_exporter": "python",
   "pygments_lexer": "ipython2",
   "version": "2.7.6"
  }
 },
 "nbformat": 4,
 "nbformat_minor": 0
}
