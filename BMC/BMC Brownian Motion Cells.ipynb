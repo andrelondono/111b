{
 "cells": [
  {
   "cell_type": "code",
   "execution_count": 3,
   "metadata": {
    "collapsed": false
   },
   "outputs": [
    {
     "name": "stdout",
     "output_type": "stream",
     "text": [
      "Populating the interactive namespace from numpy and matplotlib\n"
     ]
    }
   ],
   "source": [
    "%pylab inline"
   ]
  },
  {
   "cell_type": "markdown",
   "metadata": {},
   "source": [
    "# Prelab "
   ]
  },
  {
   "cell_type": "code",
   "execution_count": 16,
   "metadata": {
    "collapsed": false
   },
   "outputs": [
    {
     "name": "stdout",
     "output_type": "stream",
     "text": [
      "mass:  7.33291221735e-11\n",
      "N: 1.00020922645\n",
      "number of atoms in a particle: 6.79140485361e+12\n"
     ]
    }
   ],
   "source": [
    "rho = 1.062\n",
    "d = 5.09\n",
    "number_of_microsphere_per_gram = 1.364e10\n",
    "m = rho *4./3.* pi *(d*0.0001/2.)**3\n",
    "print \"mass: \", m \n",
    "print \"N:\",m*number_of_microsphere_per_gram\n",
    "print \"number of atoms in a particle:\", m*m2n"
   ]
  },
  {
   "cell_type": "code",
   "execution_count": 17,
   "metadata": {
    "collapsed": false
   },
   "outputs": [
    {
     "name": "stdout",
     "output_type": "stream",
     "text": [
      "mass:  5.33032738462e-10\n",
      "N: 0.999969417354\n",
      "number of atoms in a particle: 4.93670320852e+13\n"
     ]
    }
   ],
   "source": [
    "rho = 1.062\n",
    "d = 9.86\n",
    "number_of_microsphere_per_gram = 1.876e9\n",
    "m = rho *4./3.* pi *(d*0.0001/2.)**3\n",
    "print \"mass: \", m \n",
    "print \"N:\",m*number_of_microsphere_per_gram\n",
    "print \"number of atoms in a particle:\", m*m2n"
   ]
  },
  {
   "cell_type": "code",
   "execution_count": 18,
   "metadata": {
    "collapsed": false
   },
   "outputs": [
    {
     "name": "stdout",
     "output_type": "stream",
     "text": [
      "mass:  5.66437559203e-13\n",
      "N: 0.999762291993\n",
      "number of atoms in a particle: 52460832406.1\n"
     ]
    }
   ],
   "source": [
    "rho = 1.05\n",
    "d = 1.01\n",
    "number_of_microsphere_per_gram = 1.765e12\n",
    "m = rho *4./3.* pi *(d*0.0001/2.)**3\n",
    "print \"mass: \", m \n",
    "print \"N:\",m*number_of_microsphere_per_gram\n",
    "print \"number of atoms in a particle:\", m*m2n"
   ]
  },
  {
   "cell_type": "code",
   "execution_count": 19,
   "metadata": {
    "collapsed": false
   },
   "outputs": [
    {
     "name": "stdout",
     "output_type": "stream",
     "text": [
      "mass:  4.26759789426e-12\n",
      "N: 0.100459254431\n",
      "number of atoms in a particle: 3.95245220361e+11\n"
     ]
    }
   ],
   "source": [
    "rho = 1.05\n",
    "d = 1.98\n",
    "number_of_microsphere_per_gram = 2.354e10\n",
    "m = rho *4./3.* pi *(d*0.0001/2.)**3\n",
    "print \"mass: \", m \n",
    "print \"N:\",m*number_of_microsphere_per_gram\n",
    "print \"number of atoms in a particle:\", m*m2n"
   ]
  },
  {
   "cell_type": "code",
   "execution_count": 20,
   "metadata": {
    "collapsed": false
   },
   "outputs": [
    {
     "name": "stdout",
     "output_type": "stream",
     "text": [
      "mass:  2.98800149775e-13\n",
      "number of atoms in a particle: 27673490794.6\n"
     ]
    }
   ],
   "source": [
    "# rho = 0.01\n",
    "# d = 38.5\n",
    "# # number_of_microsphere_per_gram = 2.354e10\n",
    "# m = rho *4./3.* pi *(d*1e-5/2.)**3\n",
    "# print \"mass: \", m \n",
    "# # print \"N:\",m*number_of_microsphere_per_gram\n",
    "# print \"number of atoms in a particle:\", m*m2n"
   ]
  },
  {
   "cell_type": "code",
   "execution_count": 21,
   "metadata": {
    "collapsed": false
   },
   "outputs": [
    {
     "name": "stdout",
     "output_type": "stream",
     "text": [
      "mass:  5.23598775598e-12\n",
      "number of atoms in a particle: 4.84933019862e+11\n"
     ]
    }
   ],
   "source": [
    "# rho = 0.01\n",
    "# d = 100\n",
    "# # number_of_microsphere_per_gram = 2.354e10\n",
    "# m = rho *4./3.* pi *(d*1e-5/2.)**3\n",
    "# print \"mass: \", m \n",
    "# # print \"N:\",m*number_of_microsphere_per_gram\n",
    "# print \"number of atoms in a particle:\", m*m2n"
   ]
  },
  {
   "cell_type": "markdown",
   "metadata": {},
   "source": [
    "# Simulating Brownian Motion "
   ]
  },
  {
   "cell_type": "code",
   "execution_count": 19,
   "metadata": {
    "collapsed": false
   },
   "outputs": [],
   "source": []
  },
  {
   "cell_type": "code",
   "execution_count": null,
   "metadata": {
    "collapsed": true
   },
   "outputs": [],
   "source": [
    "N = 1000;\n",
    "displacement = randn(1,N);\n",
    "plot(displacement);\n",
    "hist(displacement, 25);\n",
    "\n",
    "\n",
    "particle = struct();\n",
    "particle.x = cumsum( randn(N, 1) );\n",
    "particle.y = cumsum( randn(N, 1) );\n",
    "plot(particle.x, particle.y);\n",
    "ylabel('Y Position');\n",
    "xlabel('X Position');\n",
    "title('position versus time in 2D');\n",
    "\n",
    "x = cumsum(displacement);\n",
    "plot(x);\n",
    "ylabel('position');\n",
    "xlabel('time step');\n",
    "title('Position of 1D Particle versus Time');\n",
    "\n",
    "particle = struct();\n",
    "particle.x = cumsum( randn(N, 1) );\n",
    "particle.y = cumsum( randn(N, 1) );\n",
    "plot(particle.x, particle.y);\n",
    "ylabel('Y Position');\n",
    "xlabel('X Position');\n",
    "title('position versus time in 2D');\n",
    "\n",
    "dsquared = particle.x .^ 2 + particle.y .^ 2;\n",
    "plot(dsquared);\n",
    "\n",
    "d    = 1.0e-6;              % radius in meters\n",
    "eta  = 1.0e-3;              % viscosity of water in SI units (Pascal-seconds) at 293 K\n",
    "kB   = 1.38e-23;            % Boltzmann constant\n",
    "T    = 293;                 % Temperature in degrees Kelvin\n",
    "\n",
    "D    = kB * T / (3 * pi * eta * d)\n",
    "\n",
    "dimensions = 2;         % two dimensional simulation\n",
    "tau = .1;               % time interval in seconds\n",
    "time = tau * 1:N;       % create a time vector for plotting\n",
    "\n",
    "k = sqrt(D * dimensions * tau);\n",
    "dx = k * randn(N,1);\n",
    "dy = k * randn(N,1);\n",
    "\n",
    "x = cumsum(dx);\n",
    "y = cumsum(dy);\n",
    "\n",
    "dSquaredDisplacement = (dx .^ 2) + (dy .^ 2);\n",
    " squaredDisplacement = ( x .^ 2) + ( y .^ 2);\n",
    "\n",
    "plot(x,y);\n",
    "title('Particle Track of a Single Simulated Particle');\n",
    "\n",
    "\n",
    "clf;\n",
    "hold on;\n",
    "plot(time, (0:1:(N-1)) * 2*k^2 , 'k', 'LineWidth', 3);      % plot theoretical line\n",
    "\n",
    "plot(time, squaredDisplacement);\n",
    "hold off;\n",
    "xlabel('Time');\n",
    "ylabel('Displacement Squared');\n",
    "title('Displacement Squared versus Time for 1 Particle in 2 Dimensions');\n",
    "\n",
    "simulatedD = mean( dSquaredDisplacement ) / ( 2 * dimensions * tau )\n",
    "standardError = std( dSquaredDisplacement ) / ( 2 * dimensions * tau * sqrt(N) )\n",
    "actualError = D - simulatedD\n",
    "\n",
    "dx = dx + 0.2 * k;\n",
    "dy = dy + 0.05 * k;\n",
    "\n",
    "x = cumsum(dx);\n",
    "y = cumsum(dy);\n",
    "\n",
    "dSquaredDisplacement = (dx .^ 2) + (dy .^ 2);\n",
    " squaredDisplacement = ( x .^ 2) + ( y .^ 2);\n",
    "\n",
    "simulatedD    = mean( dSquaredDisplacement ) / ( 2 * dimensions * tau )\n",
    "standardError = std(  dSquaredDisplacement ) / ( 2 * dimensions * tau * sqrt(N) )\n",
    "actualError = D - simulatedD\n",
    "\n",
    "plot(x,y);\n",
    "title('Particle Track of a Single Simulated Particle with Bulk Flow');\n",
    "\n",
    "\n",
    "clf;\n",
    "hold on;\n",
    "plot(time, (0:1:(N-1)) * 2*k^2 , 'k', 'LineWidth', 3);      % plot theoretical line\n",
    "plot(time, squaredDisplacement);\n",
    "hold off;\n",
    "\n",
    "xlabel('Time');\n",
    "ylabel('Displacement Squared');\n",
    "title('Displacement Squared versus Time with Bulk Flow');\n",
    "\n",
    "particleCount = 10;\n",
    "N = 50;\n",
    "tau = .1;\n",
    "time = 0:tau:(N-1) * tau;\n",
    "particle = { };             % create an empty cell array to hold the results\n",
    "\n",
    "for i = 1:particleCount\n",
    "    particle{i} = struct();\n",
    "    particle{i}.dx = k * randn(1,N);\n",
    "    particle{i}.x = cumsum(particle{i}.dx);\n",
    "    particle{i}.dy = k * randn(1,N);\n",
    "    particle{i}.y = cumsum(particle{i}.dy);\n",
    "    particle{i}.drsquared = particle{i}.dx .^2 + particle{i}.dy .^ 2;\n",
    "    particle{i}.rsquared = particle{i}.x .^ 2 + particle{i}.y .^ 2;\n",
    "    particle{i}.D = mean( particle{i}.drsquared ) / ( 2 * dimensions * tau );\n",
    "    particle{i}.standardError = std( particle{i}.drsquared ) / ( 2 * dimensions * tau * sqrt(N) );\n",
    "end"
   ]
  },
  {
   "cell_type": "code",
   "execution_count": 5,
   "metadata": {
    "collapsed": false
   },
   "outputs": [
    {
     "name": "stdout",
     "output_type": "stream",
     "text": [
      "7.20401634612e-11\n"
     ]
    }
   ],
   "source": [
    "rho = 1.062 #g/ml\n",
    "r = 0.00005*5.06 #cm\n",
    "mass = rho*4/3*pi*r*r*r\n",
    "\n",
    "\n",
    "print mass"
   ]
  },
  {
   "cell_type": "code",
   "execution_count": 8,
   "metadata": {
    "collapsed": false
   },
   "outputs": [],
   "source": [
    "mol = 6.02e23\n",
    "m2n =  mol/6.5"
   ]
  },
  {
   "cell_type": "raw",
   "metadata": {},
   "source": [
    "kTrial>> ComputeD(1000,1e-5)\n",
    "\n",
    "D =\n",
    "\n",
    "   4.2902e-14\n",
    "\n",
    "\n",
    "averageD =\n",
    "\n",
    "   4.2100e-14\n",
    "\n",
    "\n",
    "uncertainty =\n",
    "\n",
    "   4.4739e-16\n",
    "\n",
    "Trial>> ComputeD(1000,1e-5)\n",
    "\n",
    "D =\n",
    "\n",
    "   4.2902e-14\n",
    "\n",
    "\n",
    "averageD =\n",
    "\n",
    "   4.2887e-14\n",
    "\n",
    "\n",
    "uncertainty =\n",
    "\n",
    "   1.9297e-16\n",
    "\n",
    "Trial>> ComputeD(1000,2.5e-6)\n",
    "\n",
    "D =\n",
    "\n",
    "   1.7161e-13\n",
    "\n",
    "\n",
    "averageD =\n",
    "\n",
    "   1.7224e-13\n",
    "\n",
    "\n",
    "uncertainty =\n",
    "\n",
    "   7.7599e-16\n",
    "\n",
    "Trial>> ComputeD(1000,4.9e-6)\n",
    "\n",
    "D =\n",
    "\n",
    "   8.7555e-14\n",
    "\n",
    "\n",
    "averageD =\n",
    "\n",
    "   8.7115e-14\n",
    "\n",
    "\n",
    "uncertainty =\n",
    "\n",
    "   3.8979e-16\n",
    "\n",
    "Trial>> ComputeD(1000,0.5e-6)\n",
    "\n",
    "D =\n",
    "\n",
    "   8.5804e-13\n",
    "\n",
    "\n",
    "averageD =\n",
    "\n",
    "   8.5933e-13\n",
    "\n",
    "\n",
    "uncertainty =\n",
    "\n",
    "   3.7083e-15\n",
    "\n",
    "Trial>> ComputeD(1000,1e-6)\n",
    "\n",
    "D =\n",
    "\n",
    "   4.2902e-13\n",
    "\n",
    "\n",
    "averageD =\n",
    "\n",
    "   4.2802e-13\n",
    "\n",
    "\n",
    "uncertainty =\n",
    "\n",
    "   1.9203e-15"
   ]
  },
  {
   "cell_type": "code",
   "execution_count": 27,
   "metadata": {
    "collapsed": false
   },
   "outputs": [
    {
     "data": {
      "text/plain": [
       "21.0"
      ]
     },
     "execution_count": 27,
     "metadata": {},
     "output_type": "execute_result"
    }
   ],
   "source": [
    "float(18+20+21+23+21+23)/6."
   ]
  },
  {
   "cell_type": "code",
   "execution_count": 29,
   "metadata": {
    "collapsed": false
   },
   "outputs": [
    {
     "data": {
      "text/plain": [
       "0.47619047619047616"
      ]
     },
     "execution_count": 29,
     "metadata": {},
     "output_type": "execute_result"
    }
   ],
   "source": [
    "10/21."
   ]
  },
  {
   "cell_type": "code",
   "execution_count": 30,
   "metadata": {
    "collapsed": false
   },
   "outputs": [
    {
     "data": {
      "text/plain": [
       "35.666666666666664"
      ]
     },
     "execution_count": 30,
     "metadata": {},
     "output_type": "execute_result"
    }
   ],
   "source": [
    "float(40+32+27+43+39+33 )/6."
   ]
  },
  {
   "cell_type": "code",
   "execution_count": 31,
   "metadata": {
    "collapsed": false
   },
   "outputs": [
    {
     "data": {
      "text/plain": [
       "0.28037435583991743"
      ]
     },
     "execution_count": 31,
     "metadata": {},
     "output_type": "execute_result"
    }
   ],
   "source": [
    "10/35.6666"
   ]
  },
  {
   "cell_type": "code",
   "execution_count": null,
   "metadata": {
    "collapsed": true
   },
   "outputs": [],
   "source": []
  }
 ],
 "metadata": {
  "kernelspec": {
   "display_name": "Python 2",
   "language": "python",
   "name": "python2"
  },
  "language_info": {
   "codemirror_mode": {
    "name": "ipython",
    "version": 2
   },
   "file_extension": ".py",
   "mimetype": "text/x-python",
   "name": "python",
   "nbconvert_exporter": "python",
   "pygments_lexer": "ipython2",
   "version": "2.7.10"
  }
 },
 "nbformat": 4,
 "nbformat_minor": 0
}
