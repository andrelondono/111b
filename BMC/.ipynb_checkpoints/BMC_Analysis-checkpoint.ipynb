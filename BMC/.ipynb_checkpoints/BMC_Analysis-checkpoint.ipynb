{
 "cells": [
  {
   "cell_type": "code",
   "execution_count": 2,
   "metadata": {
    "collapsed": false
   },
   "outputs": [
    {
     "name": "stdout",
     "output_type": "stream",
     "text": [
      "Populating the interactive namespace from numpy and matplotlib\n"
     ]
    }
   ],
   "source": [
    "%pylab inline"
   ]
  },
  {
   "cell_type": "markdown",
   "metadata": {
    "collapsed": true
   },
   "source": [
    "Parsed from BrownianMotionParse"
   ]
  },
  {
   "cell_type": "raw",
   "metadata": {
    "collapsed": true
   },
   "source": [
    "dlmwrite('data.txt',Data)"
   ]
  },
  {
   "cell_type": "raw",
   "metadata": {},
   "source": [
    "x y time dx dy dt dr^2 TotalDisplacementSquared"
   ]
  },
  {
   "cell_type": "code",
   "execution_count": 5,
   "metadata": {
    "collapsed": false
   },
   "outputs": [],
   "source": [
    "# sum(sqrt(data[:,3]**2+data[:,4]**2))"
   ]
  },
  {
   "cell_type": "code",
   "execution_count": 83,
   "metadata": {
    "collapsed": false
   },
   "outputs": [
    {
     "name": "stdout",
     "output_type": "stream",
     "text": [
      "LHS:  7.96704734027e-12\n",
      "RHS:  7.3024e-13\n",
      "D: 1.99176183507e-11\n",
      "90.8342455014\n"
     ]
    }
   ],
   "source": [
    "data = np.genfromtxt(\"data/data.txt\",delimiter=',',dtype=None)\n",
    "lhs = mean(data[:,7])\n",
    "print \"LHS: \", lhs\n",
    "d = 2 #dimensions\n",
    "D = 1.8256e-12 #experimental\n",
    "tau = 0.1 #time interval[s]\n",
    "rhs= 2*D*d*tau\n",
    "print \"RHS: \", rhs\n",
    "print \"D:\",lhs/2./d/tau\n",
    "print abs(rhs-lhs)/lhs*100"
   ]
  },
  {
   "cell_type": "code",
   "execution_count": 7,
   "metadata": {
    "collapsed": false
   },
   "outputs": [
    {
     "data": {
      "text/plain": [
       "14.54690209661659"
      ]
     },
     "execution_count": 7,
     "metadata": {},
     "output_type": "execute_result"
    }
   ],
   "source": [
    "lhs/D/d/tau"
   ]
  },
  {
   "cell_type": "code",
   "execution_count": 8,
   "metadata": {
    "collapsed": false
   },
   "outputs": [
    {
     "data": {
      "text/plain": [
       "86.251368252040592"
      ]
     },
     "execution_count": 8,
     "metadata": {},
     "output_type": "execute_result"
    }
   ],
   "source": [
    "abs(rhs-lhs)/lhs*100"
   ]
  },
  {
   "cell_type": "code",
   "execution_count": 9,
   "metadata": {
    "collapsed": false
   },
   "outputs": [
    {
     "data": {
      "text/plain": [
       "(2845, 8)"
      ]
     },
     "execution_count": 9,
     "metadata": {},
     "output_type": "execute_result"
    }
   ],
   "source": [
    "shape(data)"
   ]
  },
  {
   "cell_type": "code",
   "execution_count": 84,
   "metadata": {
    "collapsed": false
   },
   "outputs": [
    {
     "name": "stdout",
     "output_type": "stream",
     "text": [
      "LHS:  7.94089938105e-12\n",
      "RHS:  4.606e-13\n",
      "94.1996494616\n"
     ]
    }
   ],
   "source": [
    "data = np.genfromtxt(\"data/data2.txt\",delimiter=',',dtype=None)\n",
    "print \"data num: {i}\".format(i)\n",
    "lhs = mean(data[:,7])\n",
    "print \"LHS: \", lhs\n",
    "d = 2 #dimensions\n",
    "D = 1.8256e-12 #experimental\n",
    "tau = 0.1 #time interval[s]\n",
    "rhs= 2*D*d*tau\n",
    "print \"RHS: \", rhs\n",
    "print \"D:\",lhs/2./d/tau\n",
    "print abs(rhs-lhs)/lhs*100"
   ]
  },
  {
   "cell_type": "code",
   "execution_count": 11,
   "metadata": {
    "collapsed": true
   },
   "outputs": [],
   "source": [
    "def estimated_autocorrelation(x):\n",
    "    \"\"\"\n",
    "    http://stackoverflow.com/q/14297012/190597\n",
    "    http://en.wikipedia.org/wiki/Autocorrelation#Estimation\n",
    "    \"\"\"\n",
    "    n = len(x)\n",
    "    variance = x.var()\n",
    "    x = x-x.mean()\n",
    "    r = np.correlate(x, x, mode = 'full')[-n:]\n",
    "    assert np.allclose(r, np.array([(x[:n-k]*x[-(n-k):]).sum() for k in range(n)]))\n",
    "    result = r/(variance*(np.arange(n, 0, -1)))\n",
    "    return result"
   ]
  },
  {
   "cell_type": "code",
   "execution_count": 12,
   "metadata": {
    "collapsed": false
   },
   "outputs": [
    {
     "data": {
      "text/plain": [
       "(3907,)"
      ]
     },
     "execution_count": 12,
     "metadata": {},
     "output_type": "execute_result"
    }
   ],
   "source": [
    "shape(data[:,0])"
   ]
  },
  {
   "cell_type": "code",
   "execution_count": 13,
   "metadata": {
    "collapsed": false
   },
   "outputs": [],
   "source": [
    "corr = estimated_autocorrelation(data[:,0])"
   ]
  },
  {
   "cell_type": "code",
   "execution_count": 14,
   "metadata": {
    "collapsed": false
   },
   "outputs": [
    {
     "data": {
      "text/plain": [
       "[<matplotlib.lines.Line2D at 0x106701a10>]"
      ]
     },
     "execution_count": 14,
     "metadata": {},
     "output_type": "execute_result"
    },
    {
     "data": {
      "image/png": "[encoded data removed]",
      "text/plain": [
       "<matplotlib.figure.Figure at 0x1027023d0>"
      ]
     },
     "metadata": {},
     "output_type": "display_data"
    }
   ],
   "source": [
    "plt.plot(corr)"
   ]
  },
  {
   "cell_type": "code",
   "execution_count": 15,
   "metadata": {
    "collapsed": false
   },
   "outputs": [
    {
     "data": {
      "text/plain": [
       "-0.017220960015022411"
      ]
     },
     "execution_count": 15,
     "metadata": {},
     "output_type": "execute_result"
    }
   ],
   "source": [
    "mean(corr)"
   ]
  },
  {
   "cell_type": "code",
   "execution_count": 16,
   "metadata": {
    "collapsed": false
   },
   "outputs": [
    {
     "data": {
      "text/plain": [
       "0.13196421373854297"
      ]
     },
     "execution_count": 16,
     "metadata": {},
     "output_type": "execute_result"
    }
   ],
   "source": [
    "std(corr)"
   ]
  },
  {
   "cell_type": "code",
   "execution_count": 45,
   "metadata": {
    "collapsed": false
   },
   "outputs": [],
   "source": [
    "onion_velocity_all= np.genfromtxt(\"data/onion_velocity_all.txt\",delimiter=',',dtype=None)\n",
    "# onion_velocity_average_insta_all= np.genfromtxt(\"data/onion_velocity_average_instantaneous_all.txt\",delimiter=',',dtype=None)\n",
    "brown_v =np.genfromtxt('data/brownian_velocity_average_instantaneous_all.txt',delimiter=',',dtype=None)"
   ]
  },
  {
   "cell_type": "code",
   "execution_count": 18,
   "metadata": {
    "collapsed": false
   },
   "outputs": [
    {
     "data": {
      "image/png": "[encoded data removed]",
      "text/plain": [
       "<matplotlib.figure.Figure at 0x106622350>"
      ]
     },
     "metadata": {},
     "output_type": "display_data"
    }
   ],
   "source": [
    "hist1 = plt.hist(onion_velocity_all,50)\n",
    "plt.xlabel(\"Velocity\",fontsize=14)\n",
    "plt.ylabel(\"Frequency\",fontsize=14)\n",
    "plt.ticklabel_format(style='sci', axis='x', scilimits=(0,0))"
   ]
  },
  {
   "cell_type": "code",
   "execution_count": 28,
   "metadata": {
    "collapsed": false
   },
   "outputs": [
    {
     "name": "stdout",
     "output_type": "stream",
     "text": [
      "-1.28675126293e-07\n"
     ]
    }
   ],
   "source": [
    "print mean(onion_velocity_all)"
   ]
  },
  {
   "cell_type": "code",
   "execution_count": 76,
   "metadata": {
    "collapsed": false
   },
   "outputs": [
    {
     "data": {
      "text/plain": [
       "<matplotlib.legend.Legend at 0x107951bd0>"
      ]
     },
     "execution_count": 76,
     "metadata": {},
     "output_type": "execute_result"
    },
    {
     "data": {
      "image/png": "[encoded data removed]",
      "text/plain": [
       "<matplotlib.figure.Figure at 0x107951190>"
      ]
     },
     "metadata": {},
     "output_type": "display_data"
    }
   ],
   "source": [
    "from matplotlib.legend_handler import HandlerLine2D\n",
    "import numpy\n",
    "from scipy.optimize import curve_fit\n",
    "import matplotlib.pyplot as plt\n",
    "data = onion_velocity_all\n",
    "width=0.6e-6\n",
    "N, bin_edges = numpy.histogram(data,bins=50)\n",
    "bin_centres = (bin_edges[:-1] + bin_edges[1:])/2\n",
    "\n",
    "# Define model function to be used to fit to the data above:\n",
    "def gauss(x, *p):\n",
    "    A, mu, sigma = p\n",
    "    return A*numpy.exp(-(x-mu)**2/(2.*sigma**2))\n",
    "\n",
    "# p0 is the initial guess for the fitting coefficients (A, mu and sigma above)\n",
    "p0 = [100, 0, 0.5e-5]\n",
    "\n",
    "coeff, var_matrix = curve_fit(gauss, bin_centres, N, p0=p0)\n",
    "\n",
    "# Get the fitted curve\n",
    "hist_fit = gauss(bin_centres, *coeff)\n",
    "# plt.plot(bin_centres, hist_fit, '--',color=\"red\",linewidth=3,label='Fitted data')\n",
    "# # Finally, lets get the fitting parameters, i.e. the mean and standard deviation:\n",
    "# print 'Fitted mean = ', coeff[1]\n",
    "# print 'Fitted standard deviation = ', coeff[2]\n",
    "plt.bar(bin_centres,N,width=width, color='blue',label=\"Brownian+Transport\")#, yerr=error)\n",
    "data = brown_v\n",
    "data[data == inf] = 0\n",
    "data = data[numpy.logical_not(numpy.isnan(data))]\n",
    "width=0.65e-6\n",
    "N, bin_edges = numpy.histogram(data,bins=50)\n",
    "bin_centres = (bin_edges[:-1] + bin_edges[1:])/2\n",
    "plt.bar(bin_centres,N,width=width, color='red',label=\"Brownian only\")#, yerr=error)\n",
    "plt.xlim(-0.00001,0.00001)\n",
    "\n",
    "plt.xlabel(\"Velocity\",fontsize=16)\n",
    "plt.ylabel(\"Count\",fontsize=16)\n",
    "# plt.title(\"Velocity distribution of onion cell and microbead solution\")\n",
    "plt.legend(loc='upper left',prop={'size':11.5},numpoints=1)"
   ]
  },
  {
   "cell_type": "code",
   "execution_count": 82,
   "metadata": {
    "collapsed": false
   },
   "outputs": [
    {
     "name": "stdout",
     "output_type": "stream",
     "text": [
      "nan\n"
     ]
    }
   ],
   "source": [
    "p0 = [100, 0, 0.5e-5]\n",
    "N, bin_edges = numpy.histogram(brown_v,bins=50)\n",
    "bin_centres = (bin_edges[:-1] + bin_edges[1:])/2\n",
    "coeff, var_matrix = curve_fit(gauss, bin_centres, N, p0=p0)\n",
    "hist_fit = gauss(bin_centres, *coeff)\n",
    "ymod=   hist_fit\n",
    "ydata = N\n",
    "chisq=numpy.sum((ydata-ymod)**2)  \n",
    "print chisq"
   ]
  },
  {
   "cell_type": "code",
   "execution_count": 58,
   "metadata": {
    "collapsed": false
   },
   "outputs": [
    {
     "data": {
      "text/plain": [
       "<Container object of 50 artists>"
      ]
     },
     "execution_count": 58,
     "metadata": {},
     "output_type": "execute_result"
    },
    {
     "data": {
      "image/png": "[encoded data removed]",
      "text/plain": [
       "<matplotlib.figure.Figure at 0x106ada190>"
      ]
     },
     "metadata": {},
     "output_type": "display_data"
    }
   ],
   "source": [
    "data = brown_v\n",
    "data[data == inf] = 0\n",
    "data = data[numpy.logical_not(numpy.isnan(data))]\n",
    "width=1e-6\n",
    "N, bin_edges = numpy.histogram(data,bins=50)\n",
    "bin_centres = (bin_edges[:-1] + bin_edges[1:])/2\n",
    "plt.bar(bin_centres,N,width=width, color='blue')#, yerr=error)"
   ]
  },
  {
   "cell_type": "code",
   "execution_count": 29,
   "metadata": {
    "collapsed": false
   },
   "outputs": [
    {
     "name": "stdout",
     "output_type": "stream",
     "text": [
      "2.56940508658e-06\n"
     ]
    }
   ],
   "source": [
    "print mean(onion_velocity_average_insta_all)"
   ]
  },
  {
   "cell_type": "code",
   "execution_count": 31,
   "metadata": {
    "collapsed": false
   },
   "outputs": [
    {
     "data": {
      "text/plain": [
       "2.3247429534996402e-11"
      ]
     },
     "execution_count": 31,
     "metadata": {},
     "output_type": "execute_result"
    }
   ],
   "source": [
    "6*pi*2.56940508658e-06*1.0*480e-9"
   ]
  },
  {
   "cell_type": "code",
   "execution_count": 34,
   "metadata": {
    "collapsed": false
   },
   "outputs": [
    {
     "data": {
      "text/plain": [
       "2.064e-05"
      ]
     },
     "execution_count": 34,
     "metadata": {},
     "output_type": "execute_result"
    }
   ],
   "source": [
    "0.48e-6*43"
   ]
  },
  {
   "cell_type": "code",
   "execution_count": 35,
   "metadata": {
    "collapsed": false
   },
   "outputs": [
    {
     "data": {
      "text/plain": [
       "4.798269456023257e-16"
      ]
     },
     "execution_count": 35,
     "metadata": {},
     "output_type": "execute_result"
    }
   ],
   "source": [
    "6*pi*2.56940508658e-06*1.0*480e-9*0.48e-6*43"
   ]
  },
  {
   "cell_type": "markdown",
   "metadata": {},
   "source": [
    "Tried fitting a Gaussian but that is not a good fit because the goodness-of-fit chi squared is  1621.833 which is large. "
   ]
  },
  {
   "cell_type": "code",
   "execution_count": 27,
   "metadata": {
    "collapsed": false
   },
   "outputs": [
    {
     "name": "stdout",
     "output_type": "stream",
     "text": [
      "1621.83300317\n"
     ]
    }
   ],
   "source": [
    "ymod=   hist_fit\n",
    "ydata = N\n",
    "chisq=numpy.sum((ydata-ymod)**2)  \n",
    "print chisq"
   ]
  },
  {
   "cell_type": "code",
   "execution_count": 24,
   "metadata": {
    "collapsed": true
   },
   "outputs": [],
   "source": [
    "from numpy import inf\n",
    "onion_velocity_average_insta_all[onion_velocity_average_insta_all == inf] = 0\n",
    "onion_velocity_average_insta_all = onion_velocity_average_insta_all[numpy.logical_not(numpy.isnan(onion_velocity_average_insta_all))]"
   ]
  },
  {
   "cell_type": "code",
   "execution_count": 25,
   "metadata": {
    "collapsed": false
   },
   "outputs": [
    {
     "data": {
      "image/png": "[encoded data removed]",
      "text/plain": [
       "<matplotlib.figure.Figure at 0x1067a12d0>"
      ]
     },
     "metadata": {},
     "output_type": "display_data"
    }
   ],
   "source": [
    "hist2 = plt.hist(onion_velocity_average_insta_all,50)\n",
    "plt.xlabel(\"Average Instantaneous Velocity\",fontsize=14)\n",
    "plt.ylabel(\"Count\",fontsize=14)\n",
    "plt.tight_layout()\n",
    "plt.ticklabel_format(style='sci', axis='x', scilimits=(0,0))"
   ]
  },
  {
   "cell_type": "markdown",
   "metadata": {},
   "source": [
    "computes the average of the magnitude of the instaneous velcoities of the particles "
   ]
  },
  {
   "cell_type": "code",
   "execution_count": null,
   "metadata": {
    "collapsed": true
   },
   "outputs": [],
   "source": []
  }
 ],
 "metadata": {
  "kernelspec": {
   "display_name": "Python 2",
   "language": "python",
   "name": "python2"
  },
  "language_info": {
   "codemirror_mode": {
    "name": "ipython",
    "version": 2
   },
   "file_extension": ".py",
   "mimetype": "text/x-python",
   "name": "python",
   "nbconvert_exporter": "python",
   "pygments_lexer": "ipython2",
   "version": "2.7.6"
  }
 },
 "nbformat": 4,
 "nbformat_minor": 0
}
