{
 "cells": [
  {
   "cell_type": "code",
   "execution_count": 2,
   "metadata": {
    "collapsed": false
   },
   "outputs": [
    {
     "name": "stdout",
     "output_type": "stream",
     "text": [
      "Populating the interactive namespace from numpy and matplotlib\n"
     ]
    }
   ],
   "source": [
    "%pylab inline"
   ]
  },
  {
   "cell_type": "markdown",
   "metadata": {
    "collapsed": true
   },
   "source": [
    "Parsed from BrownianMotionParse"
   ]
  },
  {
   "cell_type": "raw",
   "metadata": {
    "collapsed": true
   },
   "source": [
    "dlmwrite('data.txt',Data)"
   ]
  },
  {
   "cell_type": "raw",
   "metadata": {},
   "source": [
    "x y time dx dy dt dr^2 TotalDisplacementSquared"
   ]
  },
  {
   "cell_type": "code",
   "execution_count": 7,
   "metadata": {
    "collapsed": false
   },
   "outputs": [
    {
     "data": {
      "text/plain": [
       "0.0021986632095300665"
      ]
     },
     "execution_count": 7,
     "metadata": {},
     "output_type": "execute_result"
    }
   ],
   "source": [
    "sum(sqrt(data[:,3]**2+data[:,4]**2))"
   ]
  },
  {
   "cell_type": "code",
   "execution_count": 35,
   "metadata": {
    "collapsed": false
   },
   "outputs": [
    {
     "name": "stdout",
     "output_type": "stream",
     "text": [
      "LHS:  7.96704734027e-12\n",
      "RHS:  1.09536e-12\n",
      "86.251368252\n"
     ]
    }
   ],
   "source": [
    "data = np.genfromtxt(\"data/data.txt\",delimiter=',',dtype=None)\n",
    "lhs = mean(data[:,7])\n",
    "print \"LHS: \", lhs\n",
    "d = 3 #dimensions\n",
    "D = 1.8256e-12 #experimental\n",
    "tau = 0.1 #time interval[s]\n",
    "rhs= 2*D*d*tau\n",
    "print \"RHS: \", rhs\n",
    "print abs(rhs-lhs)/lhs*100"
   ]
  },
  {
   "cell_type": "code",
   "execution_count": 11,
   "metadata": {
    "collapsed": false
   },
   "outputs": [
    {
     "data": {
      "text/plain": [
       "13.644073400936724"
      ]
     },
     "execution_count": 11,
     "metadata": {},
     "output_type": "execute_result"
    }
   ],
   "source": [
    "lhs/D/d/tau"
   ]
  },
  {
   "cell_type": "code",
   "execution_count": 12,
   "metadata": {
    "collapsed": false
   },
   "outputs": [
    {
     "data": {
      "text/plain": [
       "85.341620927789137"
      ]
     },
     "execution_count": 12,
     "metadata": {},
     "output_type": "execute_result"
    }
   ],
   "source": [
    "abs(rhs-lhs)/lhs*100"
   ]
  },
  {
   "cell_type": "code",
   "execution_count": 14,
   "metadata": {
    "collapsed": false
   },
   "outputs": [
    {
     "data": {
      "text/plain": [
       "(2845, 8)"
      ]
     },
     "execution_count": 14,
     "metadata": {},
     "output_type": "execute_result"
    }
   ],
   "source": [
    "shape(data)"
   ]
  },
  {
   "cell_type": "code",
   "execution_count": 34,
   "metadata": {
    "collapsed": false
   },
   "outputs": [
    {
     "name": "stdout",
     "output_type": "stream",
     "text": [
      "LHS:  7.94089938105e-12\n",
      "RHS:  6.909e-13\n",
      "91.2994741925\n"
     ]
    }
   ],
   "source": [
    "data = np.genfromtxt(\"data/data2.txt\",delimiter=',',dtype=None)\n",
    "lhs = mean(data[:,7])\n",
    "print \"LHS: \", lhs\n",
    "d = 3 #dimensions\n",
    "D = 1.1515e-12 #experimental\n",
    "tau = 0.1 #time interval[s]\n",
    "rhs= 2*D*d*tau\n",
    "print \"RHS: \", rhs\n",
    "print abs(rhs-lhs)/lhs*100"
   ]
  },
  {
   "cell_type": "code",
   "execution_count": 19,
   "metadata": {
    "collapsed": true
   },
   "outputs": [],
   "source": [
    "def estimated_autocorrelation(x):\n",
    "    \"\"\"\n",
    "    http://stackoverflow.com/q/14297012/190597\n",
    "    http://en.wikipedia.org/wiki/Autocorrelation#Estimation\n",
    "    \"\"\"\n",
    "    n = len(x)\n",
    "    variance = x.var()\n",
    "    x = x-x.mean()\n",
    "    r = np.correlate(x, x, mode = 'full')[-n:]\n",
    "    assert np.allclose(r, np.array([(x[:n-k]*x[-(n-k):]).sum() for k in range(n)]))\n",
    "    result = r/(variance*(np.arange(n, 0, -1)))\n",
    "    return result"
   ]
  },
  {
   "cell_type": "code",
   "execution_count": 20,
   "metadata": {
    "collapsed": false
   },
   "outputs": [
    {
     "data": {
      "text/plain": [
       "(2845,)"
      ]
     },
     "execution_count": 20,
     "metadata": {},
     "output_type": "execute_result"
    }
   ],
   "source": [
    "shape(data[:,0])"
   ]
  },
  {
   "cell_type": "code",
   "execution_count": 22,
   "metadata": {
    "collapsed": false
   },
   "outputs": [],
   "source": [
    "corr = estimated_autocorrelation(data[:,0])"
   ]
  },
  {
   "cell_type": "code",
   "execution_count": 23,
   "metadata": {
    "collapsed": false
   },
   "outputs": [
    {
     "data": {
      "text/plain": [
       "[<matplotlib.lines.Line2D at 0x10acab610>]"
      ]
     },
     "execution_count": 23,
     "metadata": {},
     "output_type": "execute_result"
    },
    {
     "data": {
      "image/png": "[encoded data removed]",
      "text/plain": [
       "<matplotlib.figure.Figure at 0x10abe68d0>"
      ]
     },
     "metadata": {},
     "output_type": "display_data"
    }
   ],
   "source": [
    "plt.plot(corr)"
   ]
  },
  {
   "cell_type": "code",
   "execution_count": 24,
   "metadata": {
    "collapsed": false
   },
   "outputs": [
    {
     "data": {
      "text/plain": [
       "-0.007921119959863724"
      ]
     },
     "execution_count": 24,
     "metadata": {},
     "output_type": "execute_result"
    }
   ],
   "source": [
    "mean(corr)"
   ]
  },
  {
   "cell_type": "code",
   "execution_count": 26,
   "metadata": {
    "collapsed": false
   },
   "outputs": [
    {
     "data": {
      "text/plain": [
       "0.12525505142520824"
      ]
     },
     "execution_count": 26,
     "metadata": {},
     "output_type": "execute_result"
    }
   ],
   "source": [
    "std(corr)"
   ]
  },
  {
   "cell_type": "code",
   "execution_count": 36,
   "metadata": {
    "collapsed": true
   },
   "outputs": [],
   "source": [
    "onion_velocity_all= np.genfromtxt(\"data/onion_velocity_all.txt\",delimiter=',',dtype=None)\n",
    "onion_velocity_average_insta_all= np.genfromtxt(\"data/onion_velocity_average_instantaneous_all.txt\",delimiter=',',dtype=None)"
   ]
  },
  {
   "cell_type": "code",
   "execution_count": 38,
   "metadata": {
    "collapsed": false
   },
   "outputs": [
    {
     "data": {
      "image/png": "[encoded data removed]",
      "text/plain": [
       "<matplotlib.figure.Figure at 0x10ade7f50>"
      ]
     },
     "metadata": {},
     "output_type": "display_data"
    }
   ],
   "source": [
    "hist1 = plt.hist(onion_velocity_all)"
   ]
  },
  {
   "cell_type": "code",
   "execution_count": 47,
   "metadata": {
    "collapsed": false
   },
   "outputs": [
    {
     "data": {
      "text/plain": [
       "array([  8.26540000e-06,   8.89750000e-06,   9.02960000e-06,\n",
       "         4.78290000e-06,   1.05930000e-05,   3.71640000e-06,\n",
       "         4.93590000e-06,   1.31790000e-05,   1.07600000e-05,\n",
       "         7.01270000e-06,   4.94160000e-06,   9.98200000e-06,\n",
       "         9.78570000e-06,   1.12890000e-05,   4.26900000e-06,\n",
       "         3.02280000e-06,   8.62640000e-06,   1.09560000e-05,\n",
       "                    nan,   6.92690000e-06,   6.43960000e-06,\n",
       "         9.20500000e-06,   8.16770000e-06,   5.19930000e-06,\n",
       "         3.65980000e-06,   3.67230000e-06,   4.59760000e-06,\n",
       "         6.76030000e-06,   8.21460000e-06,   6.22930000e-06,\n",
       "         1.65090000e-05,   4.40450000e-06,   1.42260000e-05,\n",
       "         3.27510000e-06,   9.89960000e-06,   7.15600000e-06,\n",
       "         7.01770000e-06,   7.06300000e-06,   7.56160000e-06,\n",
       "         6.27060000e-06,   7.61050000e-06,   4.48760000e-06,\n",
       "         1.24420000e-05,   9.43250000e-06,   9.44650000e-06,\n",
       "         6.36510000e-06,   3.87480000e-06,   7.70790000e-06,\n",
       "         6.27850000e-06,   0.00000000e+00,   0.00000000e+00,\n",
       "         0.00000000e+00,   0.00000000e+00,   7.23910000e-08,\n",
       "         0.00000000e+00,   0.00000000e+00,   0.00000000e+00,\n",
       "         2.52230000e-07,   0.00000000e+00,   0.00000000e+00,\n",
       "         9.00810000e-08,   0.00000000e+00,   9.60450000e-08,\n",
       "         0.00000000e+00,   2.53370000e-07,   0.00000000e+00,\n",
       "         7.38290000e-07,   1.57500000e-07,   0.00000000e+00,\n",
       "         4.76510000e-07,   4.83340000e-07,   0.00000000e+00,\n",
       "         0.00000000e+00,   3.36990000e-06,   9.50190000e-07,\n",
       "         3.71410000e-07,   0.00000000e+00,   7.40310000e-07,\n",
       "         1.37580000e-06,   2.47320000e-06,   2.22180000e-06,\n",
       "         3.36300000e-07,   0.00000000e+00,   6.72610000e-07,\n",
       "         4.20380000e-07,   0.00000000e+00,   1.76750000e-06,\n",
       "         1.96610000e-06,   1.94020000e-06,   0.00000000e+00,\n",
       "         3.51960000e-06,   1.76710000e-06,   0.00000000e+00,\n",
       "         0.00000000e+00,   1.53430000e-06,   3.43040000e-06,\n",
       "         8.62030000e-08,   2.43210000e-06,   1.52310000e-06,\n",
       "         0.00000000e+00,   1.42680000e-06,   4.72930000e-07,\n",
       "         2.80250000e-07,   7.20650000e-07,   9.00810000e-07,\n",
       "         1.89940000e-06,   3.31840000e-06,   2.05090000e-06,\n",
       "         3.08910000e-06,   2.56010000e-06,   1.32750000e-07,\n",
       "         3.52960000e-07,   1.26300000e-06,   1.96020000e-06,\n",
       "         2.15050000e-06,   2.30730000e-06,   1.64380000e-06,\n",
       "         1.60150000e-06,   2.01780000e-06,   2.25520000e-06,\n",
       "         9.58900000e-07,   1.53330000e-07,   1.94750000e-06,\n",
       "         1.70650000e-06,   5.30590000e-06,   9.84450000e-07,\n",
       "         3.99740000e-06,   1.01000000e-06,   3.15280000e-07,\n",
       "         4.44520000e-06,   1.55130000e-06,   1.84890000e-06,\n",
       "         0.00000000e+00,   1.06840000e-06,   1.26110000e-06,\n",
       "         1.72230000e-06,   5.52980000e-06,   2.64510000e-06,\n",
       "         2.99700000e-06,   2.03690000e-06,   0.00000000e+00,\n",
       "         1.05230000e-06,   5.66040000e-07,   6.30570000e-07,\n",
       "         1.72200000e-06,   2.65440000e-06,   1.90810000e-06,\n",
       "         2.13380000e-06,   2.02560000e-06,   1.03180000e-06,\n",
       "         3.67080000e-06,   3.67430000e-06,   3.25660000e-06,\n",
       "         1.44340000e-06,   5.08730000e-06,   3.96870000e-06,\n",
       "         1.78210000e-06,   1.64220000e-06,   2.72180000e-06,\n",
       "         1.53860000e-06,   1.52360000e-06,   2.73140000e-06,\n",
       "         2.28110000e-06,   1.28020000e-06,   2.28220000e-06,\n",
       "         2.84930000e-06,   4.52210000e-06,   1.18380000e-06,\n",
       "         1.34480000e-06,   3.64520000e-06,   1.12020000e-06,\n",
       "         9.94510000e-07,   1.95620000e-06,   2.51080000e-06,\n",
       "         1.12500000e-06,   1.74300000e-06,   2.46550000e-06,\n",
       "         1.11260000e-06,   1.16520000e-06,   1.85710000e-06,\n",
       "         1.24120000e-06,   1.30190000e-06,   9.21520000e-07,\n",
       "         8.40760000e-07,   1.34520000e-06,   5.01270000e-06,\n",
       "         2.10690000e-06,   2.43660000e-06,   3.32440000e-06,\n",
       "         2.16010000e-06,   2.37970000e-06,   4.04020000e-06,\n",
       "         2.28220000e-06,   2.62390000e-06,   2.61300000e-06,\n",
       "         2.30180000e-06,   1.62460000e-06,   5.90820000e-07,\n",
       "         2.29180000e-06,   1.42400000e-06,   2.88110000e-06,\n",
       "         1.60190000e-06,   1.90270000e-06,   1.64120000e-06,\n",
       "         2.10240000e-06,   1.94380000e-06,   1.46380000e-06,\n",
       "         2.18470000e-06,   1.10120000e-06,   9.51980000e-07,\n",
       "         2.21770000e-06,   1.92020000e-06,   1.49720000e-06,\n",
       "         1.28220000e-06,   2.22430000e-06,   1.38330000e-06,\n",
       "         2.18760000e-06,   2.23280000e-06,   4.26720000e-06,\n",
       "         5.93620000e-06,   1.41640000e-06,   2.28200000e-06,\n",
       "         3.80470000e-06,   1.39970000e-06,   2.24270000e-06,\n",
       "         2.97650000e-06,   1.34830000e-06,   2.41710000e-06,\n",
       "         2.24300000e-06,   1.82610000e-06,   3.22510000e-06,\n",
       "         1.04510000e-06,   1.30300000e-06,   2.39850000e-06,\n",
       "         4.68830000e-06,   3.96790000e-06,   3.84390000e-06,\n",
       "         4.20690000e-06,   1.64590000e-06,   1.72300000e-06,\n",
       "         2.70570000e-06,   1.76630000e-06,   2.11670000e-06,\n",
       "         1.99150000e-06,   1.26690000e-06,   1.17930000e-06,\n",
       "         4.65900000e-06,   1.97780000e-06,   1.21420000e-06,\n",
       "         1.99070000e-06,   3.15930000e-06,   2.30270000e-06,\n",
       "         3.29880000e-06,   4.10870000e-06,   2.34510000e-06,\n",
       "         1.57630000e-06,   2.09110000e-06,   1.65050000e-06,\n",
       "         1.63820000e-06,   2.54430000e-06,   9.80270000e-07,\n",
       "         3.58870000e-06,   3.34700000e-06,   1.63680000e-06,\n",
       "         1.07610000e-06,   2.01250000e-06,   5.38490000e-06,\n",
       "         2.57750000e-06,   2.17410000e-06,   2.75910000e-06,\n",
       "         3.27230000e-06,   2.48570000e-06,   3.76860000e-06,\n",
       "         2.86330000e-06,   1.48900000e-06,   1.95560000e-06,\n",
       "         1.79960000e-06,   2.00170000e-06,   1.44290000e-06,\n",
       "         1.47730000e-06,   1.30570000e-06,   1.46590000e-06,\n",
       "         3.01630000e-06,   1.41880000e-06,   3.07610000e-06,\n",
       "         3.36990000e-06,   1.11550000e-06,   2.25340000e-06,\n",
       "         1.59860000e-06,   1.61520000e-06,   1.69310000e-06,\n",
       "         1.92490000e-06,   1.80830000e-06,   1.63160000e-06,\n",
       "         2.57660000e-06,   1.54400000e-06,   5.67610000e-06,\n",
       "         3.95930000e-06,   1.95290000e-06,   1.64540000e-06,\n",
       "         1.60210000e-06,   1.57590000e-06,   1.38580000e-06,\n",
       "         1.36670000e-06,   1.64750000e-06,   2.35180000e-06,\n",
       "         2.52510000e-06,   4.07810000e-06,   2.23170000e-06,\n",
       "         8.22320000e-07,   2.76580000e-06,   1.80190000e-06,\n",
       "         1.42470000e-06,   1.86060000e-06,   1.33090000e-06,\n",
       "         1.65410000e-06,   2.69760000e-06,   2.59420000e-06,\n",
       "         2.06040000e-06,   1.22240000e-06,   1.56850000e-06,\n",
       "         2.41860000e-06,   1.11390000e-06,   1.71580000e-06,\n",
       "         1.49620000e-06,   1.61970000e-06,   1.33000000e-06,\n",
       "         1.85840000e-06,   5.08270000e-06,   1.58980000e-06,\n",
       "         1.50840000e-06,   1.23500000e-06,   1.87690000e-06,\n",
       "         1.27380000e-06,   1.76270000e-06,   1.69900000e-06,\n",
       "         1.65360000e-06,   1.21040000e-06,   1.87170000e-06,\n",
       "         1.94610000e-06,   2.31740000e-06,   2.30580000e-06,\n",
       "         1.51240000e-06,   9.95070000e-07,   1.92080000e-06,\n",
       "         3.18430000e-06,   1.96740000e-06,   9.61050000e-07,\n",
       "         1.95500000e-06,   2.37450000e-06,   2.07400000e-06,\n",
       "         1.60910000e-06,   3.32560000e-06,   1.49300000e-06,\n",
       "         1.32110000e-06,   1.68980000e-06,   2.69510000e-06,\n",
       "         2.15700000e-06,   2.38240000e-06,   2.02030000e-06,\n",
       "         1.84020000e-06,   3.12170000e-06,   2.30660000e-06,\n",
       "         2.77440000e-06,   4.66470000e-06,   3.32460000e-06,\n",
       "         3.09170000e-06,   1.20850000e-06,   1.59120000e-06,\n",
       "         1.81240000e-06,   2.01490000e-06,   2.24070000e-06,\n",
       "         1.96810000e-06,   2.60470000e-06,   2.73070000e-06,\n",
       "         1.19230000e-06,   1.32310000e-06,   3.66160000e-06,\n",
       "         4.30930000e-06,   3.54000000e-06,   1.25070000e-06,\n",
       "         2.61270000e-06,   1.25540000e-06,   4.25610000e-06,\n",
       "         1.69900000e-06,   5.76910000e-06,   2.73340000e-06,\n",
       "         2.89220000e-06,   3.02420000e-06,   3.64870000e-06,\n",
       "         1.59620000e-06,   3.78400000e-06,   1.92500000e-06,\n",
       "                    nan,              inf,   1.56410000e-06,\n",
       "         1.94470000e-06,   5.19510000e-06,   1.92930000e-06,\n",
       "         2.10750000e-06,   2.08040000e-06,   2.76260000e-06,\n",
       "         1.44740000e-06,   1.77250000e-06,   3.45760000e-06,\n",
       "         2.33780000e-06,   2.38450000e-06,   1.75280000e-06,\n",
       "         2.18200000e-06,   4.02200000e-06,   1.74600000e-06,\n",
       "         4.49450000e-06,   2.08140000e-06,   2.35340000e-06,\n",
       "         1.68720000e-06,   1.43610000e-06,   2.52920000e-06,\n",
       "         1.98240000e-06,   2.30720000e-06,   5.53390000e-07,\n",
       "         2.35850000e-06,   2.55240000e-06,   1.73800000e-06,\n",
       "         8.51370000e-07,   2.35780000e-06,   2.13850000e-06,\n",
       "         4.51900000e-06,   1.40490000e-06,   2.13650000e-06,\n",
       "         1.37430000e-06,   3.15240000e-06,   1.64170000e-06,\n",
       "         2.32970000e-06,   1.69130000e-06,   4.04730000e-06,\n",
       "         1.94110000e-06,   1.44750000e-06,   1.94880000e-06,\n",
       "         1.19510000e-06,   7.34810000e-07,   1.27730000e-06,\n",
       "         3.88400000e-06,   3.09920000e-06,   2.74850000e-06,\n",
       "         3.74200000e-06,   0.00000000e+00,   2.82040000e-06,\n",
       "         1.16670000e-06,   1.59830000e-06,   2.50050000e-06,\n",
       "         1.66020000e-06,   2.74950000e-06,   1.16290000e-06,\n",
       "         2.51350000e-06,   2.27730000e-06,   1.19200000e-06,\n",
       "         2.73600000e-06,   1.20620000e-06,   2.46740000e-06,\n",
       "         4.84900000e-06,   1.73090000e-06,   2.34520000e-06,\n",
       "         1.97910000e-06,   2.95450000e-06])"
      ]
     },
     "execution_count": 47,
     "metadata": {},
     "output_type": "execute_result"
    }
   ],
   "source": [
    "# np.where(onion_velocity_average_insta_all)\n",
    "onion_velocity_average_insta_all"
   ]
  },
  {
   "cell_type": "code",
   "execution_count": 39,
   "metadata": {
    "collapsed": false
   },
   "outputs": [
    {
     "ename": "AttributeError",
     "evalue": "max must be larger than min in range parameter.",
     "output_type": "error",
     "traceback": [
      "\u001b[0;31m---------------------------------------------------------------------------\u001b[0m",
      "\u001b[0;31mAttributeError\u001b[0m                            Traceback (most recent call last)",
      "\u001b[0;32m<ipython-input-39-7342fb50f914>\u001b[0m in \u001b[0;36m<module>\u001b[0;34m()\u001b[0m\n\u001b[0;32m----> 1\u001b[0;31m \u001b[0mhist2\u001b[0m \u001b[0;34m=\u001b[0m \u001b[0mplt\u001b[0m\u001b[0;34m.\u001b[0m\u001b[0mhist\u001b[0m\u001b[0;34m(\u001b[0m\u001b[0monion_velocity_average_insta_all\u001b[0m\u001b[0;34m)\u001b[0m\u001b[0;34m\u001b[0m\u001b[0m\n\u001b[0m",
      "\u001b[0;32m/Users/dorislee/.virtualenvs/py27dev/lib/python2.7/site-packages/matplotlib/pyplot.pyc\u001b[0m in \u001b[0;36mhist\u001b[0;34m(x, bins, range, normed, weights, cumulative, bottom, histtype, align, orientation, rwidth, log, color, label, stacked, hold, **kwargs)\u001b[0m\n\u001b[1;32m   2825\u001b[0m                       \u001b[0mhisttype\u001b[0m\u001b[0;34m=\u001b[0m\u001b[0mhisttype\u001b[0m\u001b[0;34m,\u001b[0m \u001b[0malign\u001b[0m\u001b[0;34m=\u001b[0m\u001b[0malign\u001b[0m\u001b[0;34m,\u001b[0m \u001b[0morientation\u001b[0m\u001b[0;34m=\u001b[0m\u001b[0morientation\u001b[0m\u001b[0;34m,\u001b[0m\u001b[0;34m\u001b[0m\u001b[0m\n\u001b[1;32m   2826\u001b[0m                       \u001b[0mrwidth\u001b[0m\u001b[0;34m=\u001b[0m\u001b[0mrwidth\u001b[0m\u001b[0;34m,\u001b[0m \u001b[0mlog\u001b[0m\u001b[0;34m=\u001b[0m\u001b[0mlog\u001b[0m\u001b[0;34m,\u001b[0m \u001b[0mcolor\u001b[0m\u001b[0;34m=\u001b[0m\u001b[0mcolor\u001b[0m\u001b[0;34m,\u001b[0m \u001b[0mlabel\u001b[0m\u001b[0;34m=\u001b[0m\u001b[0mlabel\u001b[0m\u001b[0;34m,\u001b[0m\u001b[0;34m\u001b[0m\u001b[0m\n\u001b[0;32m-> 2827\u001b[0;31m                       stacked=stacked, **kwargs)\n\u001b[0m\u001b[1;32m   2828\u001b[0m         \u001b[0mdraw_if_interactive\u001b[0m\u001b[0;34m(\u001b[0m\u001b[0;34m)\u001b[0m\u001b[0;34m\u001b[0m\u001b[0m\n\u001b[1;32m   2829\u001b[0m     \u001b[0;32mfinally\u001b[0m\u001b[0;34m:\u001b[0m\u001b[0;34m\u001b[0m\u001b[0m\n",
      "\u001b[0;32m/Users/dorislee/.virtualenvs/py27dev/lib/python2.7/site-packages/matplotlib/axes.pyc\u001b[0m in \u001b[0;36mhist\u001b[0;34m(self, x, bins, range, normed, weights, cumulative, bottom, histtype, align, orientation, rwidth, log, color, label, stacked, **kwargs)\u001b[0m\n\u001b[1;32m   8324\u001b[0m             \u001b[0;31m# this will automatically overwrite bins,\u001b[0m\u001b[0;34m\u001b[0m\u001b[0;34m\u001b[0m\u001b[0m\n\u001b[1;32m   8325\u001b[0m             \u001b[0;31m# so that each histogram uses the same bins\u001b[0m\u001b[0;34m\u001b[0m\u001b[0;34m\u001b[0m\u001b[0m\n\u001b[0;32m-> 8326\u001b[0;31m             \u001b[0mm\u001b[0m\u001b[0;34m,\u001b[0m \u001b[0mbins\u001b[0m \u001b[0;34m=\u001b[0m \u001b[0mnp\u001b[0m\u001b[0;34m.\u001b[0m\u001b[0mhistogram\u001b[0m\u001b[0;34m(\u001b[0m\u001b[0mx\u001b[0m\u001b[0;34m[\u001b[0m\u001b[0mi\u001b[0m\u001b[0;34m]\u001b[0m\u001b[0;34m,\u001b[0m \u001b[0mbins\u001b[0m\u001b[0;34m,\u001b[0m \u001b[0mweights\u001b[0m\u001b[0;34m=\u001b[0m\u001b[0mw\u001b[0m\u001b[0;34m[\u001b[0m\u001b[0mi\u001b[0m\u001b[0;34m]\u001b[0m\u001b[0;34m,\u001b[0m \u001b[0;34m**\u001b[0m\u001b[0mhist_kwargs\u001b[0m\u001b[0;34m)\u001b[0m\u001b[0;34m\u001b[0m\u001b[0m\n\u001b[0m\u001b[1;32m   8327\u001b[0m             \u001b[0mm\u001b[0m \u001b[0;34m=\u001b[0m \u001b[0mm\u001b[0m\u001b[0;34m.\u001b[0m\u001b[0mastype\u001b[0m\u001b[0;34m(\u001b[0m\u001b[0mfloat\u001b[0m\u001b[0;34m)\u001b[0m \u001b[0;31m# causes problems later if it's an int\u001b[0m\u001b[0;34m\u001b[0m\u001b[0m\n\u001b[1;32m   8328\u001b[0m             \u001b[0;32mif\u001b[0m \u001b[0mmlast\u001b[0m \u001b[0;32mis\u001b[0m \u001b[0mNone\u001b[0m\u001b[0;34m:\u001b[0m\u001b[0;34m\u001b[0m\u001b[0m\n",
      "\u001b[0;32m/Users/dorislee/.virtualenvs/py27dev/lib/python2.7/site-packages/numpy/lib/function_base.pyc\u001b[0m in \u001b[0;36mhistogram\u001b[0;34m(a, bins, range, normed, weights, density)\u001b[0m\n\u001b[1;32m    174\u001b[0m         \u001b[0;32mif\u001b[0m \u001b[0;34m(\u001b[0m\u001b[0mmn\u001b[0m \u001b[0;34m>\u001b[0m \u001b[0mmx\u001b[0m\u001b[0;34m)\u001b[0m\u001b[0;34m:\u001b[0m\u001b[0;34m\u001b[0m\u001b[0m\n\u001b[1;32m    175\u001b[0m             raise AttributeError(\n\u001b[0;32m--> 176\u001b[0;31m                 'max must be larger than min in range parameter.')\n\u001b[0m\u001b[1;32m    177\u001b[0m \u001b[0;34m\u001b[0m\u001b[0m\n\u001b[1;32m    178\u001b[0m     \u001b[0;32mif\u001b[0m \u001b[0;32mnot\u001b[0m \u001b[0miterable\u001b[0m\u001b[0;34m(\u001b[0m\u001b[0mbins\u001b[0m\u001b[0;34m)\u001b[0m\u001b[0;34m:\u001b[0m\u001b[0;34m\u001b[0m\u001b[0m\n",
      "\u001b[0;31mAttributeError\u001b[0m: max must be larger than min in range parameter."
     ]
    },
    {
     "data": {
      "image/png": "[encoded data removed]",
      "text/plain": [
       "<matplotlib.figure.Figure at 0x10ac8d9d0>"
      ]
     },
     "metadata": {},
     "output_type": "display_data"
    }
   ],
   "source": [
    "hist2 = plt.hist(onion_velocity_average_insta_all)"
   ]
  },
  {
   "cell_type": "code",
   "execution_count": null,
   "metadata": {
    "collapsed": true
   },
   "outputs": [],
   "source": []
  }
 ],
 "metadata": {
  "kernelspec": {
   "display_name": "Python 2",
   "language": "python",
   "name": "python2"
  },
  "language_info": {
   "codemirror_mode": {
    "name": "ipython",
    "version": 2
   },
   "file_extension": ".py",
   "mimetype": "text/x-python",
   "name": "python",
   "nbconvert_exporter": "python",
   "pygments_lexer": "ipython2",
   "version": "2.7.6"
  }
 },
 "nbformat": 4,
 "nbformat_minor": 0
}
