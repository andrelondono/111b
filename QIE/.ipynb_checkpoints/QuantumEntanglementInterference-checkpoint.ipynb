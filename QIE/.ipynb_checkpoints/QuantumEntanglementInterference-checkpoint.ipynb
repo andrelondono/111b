{
 "cells": [
  {
   "cell_type": "code",
   "execution_count": null,
   "metadata": {
    "collapsed": false
   },
   "outputs": [],
   "source": [
    "%pylab inline"
   ]
  },
  {
   "cell_type": "code",
   "execution_count": null,
   "metadata": {
    "collapsed": true
   },
   "outputs": [],
   "source": []
  },
  {
   "cell_type": "code",
   "execution_count": null,
   "metadata": {
    "collapsed": false
   },
   "outputs": [],
   "source": [
    "cos(90)"
   ]
  },
  {
   "cell_type": "code",
   "execution_count": null,
   "metadata": {
    "collapsed": false
   },
   "outputs": [],
   "source": [
    "def compute_prob(c_h, c_v, alpha_deg, beta_deg):\n",
    "    beta = np.deg2rad(beta_deg)\n",
    "    alpha = np.deg2rad(alpha_deg)\n",
    "    P =(c_h*cos(alpha)*cos(beta)+c_v*sin(alpha)*sin(beta) )**2\n",
    "    return P "
   ]
  },
  {
   "cell_type": "code",
   "execution_count": null,
   "metadata": {
    "collapsed": false
   },
   "outputs": [],
   "source": [
    "print compute_prob(1./sqrt(2),1./sqrt(2),0,0)\n",
    "print compute_prob(1./sqrt(2),1./sqrt(2),0,90)\n",
    "print compute_prob(1./sqrt(2),1./sqrt(2),45,45)\n",
    "print compute_prob(1./sqrt(2),1./sqrt(2),90,90)"
   ]
  },
  {
   "cell_type": "code",
   "execution_count": null,
   "metadata": {
    "collapsed": false
   },
   "outputs": [],
   "source": [
    "print compute_prob(np.sqrt(3)/2,0.5,0,0)\n",
    "print compute_prob(np.sqrt(3)/2,0.5,0,90)\n",
    "print compute_prob(np.sqrt(3)/2,0.5,45,45)\n",
    "print compute_prob(np.sqrt(3)/2,0.5,90,90)"
   ]
  },
  {
   "cell_type": "code",
   "execution_count": null,
   "metadata": {
    "collapsed": false
   },
   "outputs": [],
   "source": [
    "10000*5e-9"
   ]
  },
  {
   "cell_type": "code",
   "execution_count": null,
   "metadata": {
    "collapsed": false
   },
   "outputs": [],
   "source": [
    "20000*5e-9"
   ]
  },
  {
   "cell_type": "code",
   "execution_count": null,
   "metadata": {
    "collapsed": false
   },
   "outputs": [],
   "source": [
    "np.arange(0,91,10)"
   ]
  },
  {
   "cell_type": "code",
   "execution_count": null,
   "metadata": {
    "collapsed": false
   },
   "outputs": [],
   "source": [
    "prob_list = []\n",
    "prob_list2 = []\n",
    "alpha_range=np.arange(0,360,10)\n",
    "for alpha in alpha_range: \n",
    "    prob_list.append(compute_prob(1./sqrt(2),1./sqrt(2),alpha,0))\n",
    "    prob_list2.append(compute_prob(sqrt(3.)/2,1./2,alpha,0))"
   ]
  },
  {
   "cell_type": "code",
   "execution_count": null,
   "metadata": {
    "collapsed": false
   },
   "outputs": [],
   "source": [
    "plt.plot(alpha_range,prob_list,'-',label=\"good\")\n",
    "plt.plot(alpha_range,prob_list2,'-',label=\"bad\")\n",
    "plt.legend()"
   ]
  },
  {
   "cell_type": "markdown",
   "metadata": {},
   "source": [
    "# Power: 38.20"
   ]
  },
  {
   "cell_type": "code",
   "execution_count": null,
   "metadata": {
    "collapsed": false
   },
   "outputs": [],
   "source": [
    "# alpha_range_exp = [0,10,20,]\n",
    "shift = -10.0\n",
    "count_exp = np.array([80.76, 89.14,62.5,33.18, 10.59, 2.61,10.39,28.79,57.38,67.76])\n",
    "plt.plot(alpha_range[:10]*2+shift,count_exp/150,'.', label= \"Experiments\")\n",
    "plt.plot(alpha_range,prob_list,'-',label=\"good\")\n",
    "plt.plot(alpha_range,prob_list2,'-',label=\"bad\")\n",
    "plt.xlim(0,180)\n",
    "plt.legend()"
   ]
  },
  {
   "cell_type": "code",
   "execution_count": null,
   "metadata": {
    "collapsed": false
   },
   "outputs": [],
   "source": [
    "sum(count_exp)/15"
   ]
  },
  {
   "cell_type": "code",
   "execution_count": null,
   "metadata": {
    "collapsed": false
   },
   "outputs": [],
   "source": [
    "max(count_exp)"
   ]
  },
  {
   "cell_type": "markdown",
   "metadata": {},
   "source": [
    "# Power: 38.48"
   ]
  },
  {
   "cell_type": "code",
   "execution_count": null,
   "metadata": {
    "collapsed": false
   },
   "outputs": [],
   "source": [
    "count_exp = np.array([80.76, 89.14,62.5,33.18, 10.59, 2.61,10.39,28.79,57.38,67.76,78.75, 61.14,39.34,16.16,0.97,9.97,33.32,34.96,64.74,83.74])\n",
    "plt.plot(alpha_range[:20]*2,count_exp/90,'.',label=\"data\")\n",
    "plt.plot(alpha_range,prob_list,'-',label=\"good\")\n",
    "plt.plot(alpha_range,prob_list2,'-',label=\"bad\")\n",
    "plt.legend()"
   ]
  },
  {
   "cell_type": "code",
   "execution_count": null,
   "metadata": {
    "collapsed": false
   },
   "outputs": [],
   "source": [
    "count_exp = np.array([80.76, 89.14,62.5,33.18, 10.59, 2.61,10.39,28.79,57.38,67.76,78.75, 61.14,39.34,16.16,0.97,9.97,33.32,34.96,64.74,83.74,82.93, 70.93,37.35])\n",
    "plt.plot(alpha_range[:23]*2+shift,count_exp/150,'.',label=\"Experiment\")\n",
    "plt.plot(alpha_range,prob_list,'-',label=\"good\")\n",
    "plt.plot(alpha_range,prob_list2,'-',label=\"bad\")\n",
    "plt.xlim(0,180)"
   ]
  },
  {
   "cell_type": "markdown",
   "metadata": {},
   "source": [
    "factor of two comes from the half wave plate "
   ]
  },
  {
   "cell_type": "code",
   "execution_count": null,
   "metadata": {
    "collapsed": true
   },
   "outputs": [],
   "source": [
    "prob_list = []\n",
    "prob_list2 = []\n",
    "beta_range=np.arange(0,360,10)+5\n",
    "for beta in beta_range: \n",
    "    prob_list.append(compute_prob(1./sqrt(2),1./sqrt(2),0,beta))\n",
    "    prob_list2.append(compute_prob(sqrt(3.)/2,1./2,0,beta))"
   ]
  },
  {
   "cell_type": "markdown",
   "metadata": {},
   "source": [
    "Snapshot duration is 5 second for everything"
   ]
  },
  {
   "cell_type": "code",
   "execution_count": null,
   "metadata": {
    "collapsed": false
   },
   "outputs": [],
   "source": [
    "shape(count_exp)"
   ]
  },
  {
   "cell_type": "code",
   "execution_count": null,
   "metadata": {
    "collapsed": false
   },
   "outputs": [],
   "source": [
    "count_exp = np.array([105.83,78.82,48.04,16.45,5.88,20.07,54.47, 95.06, 111.85, 92.46,81.05])\n",
    "plt.plot(beta_range[:11]*2,count_exp/250.,'.')\n",
    "plt.plot(beta_range,prob_list,'-',label=\"good\")\n",
    "plt.plot(beta_range,prob_list2,'-',label=\"bad\")\n",
    "plt.legend()\n",
    "plt.xlim(0,180)"
   ]
  },
  {
   "cell_type": "code",
   "execution_count": null,
   "metadata": {
    "collapsed": true
   },
   "outputs": [],
   "source": [
    "def P(alpha, beta):\n",
    "    P =0.5*(cos(beta-alpha))**2\n",
    "    return P "
   ]
  },
  {
   "cell_type": "code",
   "execution_count": null,
   "metadata": {
    "collapsed": false
   },
   "outputs": [],
   "source": [
    "def E(a,b):\n",
    "    ap = a+pi/2.\n",
    "    bp = b+pi/2.\n",
    "#     print \"a,b: \",a,b\n",
    "    E = P(a,b)+P(ap,bp)-P(ap,b)-P(a,bp)\n",
    "    return E"
   ]
  },
  {
   "cell_type": "code",
   "execution_count": null,
   "metadata": {
    "collapsed": false
   },
   "outputs": [],
   "source": [
    "a1= -pi/4\n",
    "a2 = 0.\n",
    "b1 = -pi/8\n",
    "b2 =  pi/8\n",
    "print E(a1,b1)-E(a1,b2)+ E(a2,b1)+E(a2,b2)"
   ]
  },
  {
   "cell_type": "markdown",
   "metadata": {},
   "source": [
    "E(a1,b2)"
   ]
  },
  {
   "cell_type": "code",
   "execution_count": null,
   "metadata": {
    "collapsed": false
   },
   "outputs": [],
   "source": [
    "(146.53+130.42-274.62- 211.73)/(146.53+274.62+ 211.73+130.42)"
   ]
  },
  {
   "cell_type": "markdown",
   "metadata": {},
   "source": [
    "E(a1,b1)"
   ]
  },
  {
   "cell_type": "code",
   "execution_count": null,
   "metadata": {
    "collapsed": false
   },
   "outputs": [],
   "source": [
    "(49.04+158.15-226.45-209.87)/(49.04+158.15+226.45+209.87)"
   ]
  },
  {
   "cell_type": "markdown",
   "metadata": {},
   "source": [
    "E(0,22.5)"
   ]
  },
  {
   "cell_type": "code",
   "execution_count": null,
   "metadata": {
    "collapsed": false
   },
   "outputs": [],
   "source": [
    "(146.46+196.63-230.13-208.73)/(146.46+196.63+230.13+208.73)"
   ]
  },
  {
   "cell_type": "markdown",
   "metadata": {},
   "source": [
    "E(0,-22.5)"
   ]
  },
  {
   "cell_type": "code",
   "execution_count": null,
   "metadata": {
    "collapsed": false
   },
   "outputs": [],
   "source": [
    "(396.16+362.5-12.61-6.74)/(396.16+362.5+12.61+6.74)"
   ]
  },
  {
   "cell_type": "code",
   "execution_count": null,
   "metadata": {
    "collapsed": false
   },
   "outputs": [],
   "source": [
    "-0.356062842846265--0.27433512380453295+ -0.12247586162798126+0.9502577087698101"
   ]
  },
  {
   "cell_type": "code",
   "execution_count": null,
   "metadata": {
    "collapsed": false,
    "scrolled": true
   },
   "outputs": [],
   "source": [
    "print E(a1,b1)\n",
    "print E(a1,b2) \n",
    "print E(a2,b1)\n",
    "print  E(a2,b2)"
   ]
  },
  {
   "cell_type": "code",
   "execution_count": null,
   "metadata": {
    "collapsed": false
   },
   "outputs": [],
   "source": [
    "(149.7-132.1+113.9-94.1)/(149.7+132.1+113.9+94.1)"
   ]
  },
  {
   "cell_type": "code",
   "execution_count": null,
   "metadata": {
    "collapsed": false
   },
   "outputs": [],
   "source": [
    "(151.6-88+144.8-78.6)/(151.6+88+144.8-78.6)"
   ]
  },
  {
   "cell_type": "code",
   "execution_count": null,
   "metadata": {
    "collapsed": true
   },
   "outputs": [],
   "source": []
  },
  {
   "cell_type": "code",
   "execution_count": null,
   "metadata": {
    "collapsed": true
   },
   "outputs": [],
   "source": []
  }
 ],
 "metadata": {
  "kernelspec": {
   "display_name": "Python 2",
   "language": "python",
   "name": "python2"
  },
  "language_info": {
   "codemirror_mode": {
    "name": "ipython",
    "version": 2
   },
   "file_extension": ".py",
   "mimetype": "text/x-python",
   "name": "python",
   "nbconvert_exporter": "python",
   "pygments_lexer": "ipython2",
   "version": "2.7.10"
  }
 },
 "nbformat": 4,
 "nbformat_minor": 0
}
