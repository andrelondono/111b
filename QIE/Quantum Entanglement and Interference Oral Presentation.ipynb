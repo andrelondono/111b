{
 "cells": [
  {
   "cell_type": "markdown",
   "metadata": {},
   "source": [
    "# Background: \n",
    "\n",
    "- Bell's theorem: any physical theory that incorporates local realism cannot reproduce all the predictions of quantum mechanical theory.\n",
    "- CHSH inquality: specific case of Bell's inequality \n",
    "- Historical significance: resolve EPR paradox argument\n",
    "\n",
    "# Experiment:\n",
    "\n",
    "- two beams of light (treat as quantum particles from distant locations) \n",
    "- measure the parity (S) of each system: \n",
    "\n",
    "$$ E = \\frac{N_{vv}-N_{vh} - N_{hv}+N_{hh}}{N_{total}}$$\n",
    "$$ S = E(\\alpha,\\beta)-E(\\alpha,\\beta')+E(\\alpha',\\beta)+E(\\alpha',\\beta')$$\n",
    "\n",
    "- Experimental goal : show violation of CHSH inequality:  \n",
    "    $$|S|\\leq 2$$\n",
    "to show that Quantum mechanics (following $|S|\\leq 2\\sqrt{2}$)is not a local hidden vairable theory.\n",
    "\n",
    "\n",
    "# Experimental Setup\n",
    "<img src=\"setup.jpg\" width=500 style=\"padding: 0px; transform: rotate(-90deg);\" /> "
   ]
  },
  {
   "cell_type": "markdown",
   "metadata": {},
   "source": [
    "# Calibration \n",
    "\n",
    "\n",
    "- Laser Power: \n",
    "    - vary laser input by 10 mW from 0~100mW\n",
    "   - found that the optimal range is 20~60mW , the efficiency decreases after we go beyond 70 mW\n",
    "   - $\\therefore$ used P $\\approx$ 40 mW throughout experiment\n",
    "   - incident power > measured power \n",
    "     $\\rightarrow$ possibly due to instrumentation/systematics issue\n",
    "\n",
    "- Setting the 405 half wave plate as 40 deg to let in vertically polarized light. \n",
    "\n",
    "- Adjust the BBO angle, so that the light directly incident the detector (tested with a red laser backward tracing from detector $\\rightarrow$ source)\n",
    "\n",
    "- Calibrating the second set of waveplates : \n",
    "\n",
    "    - from varying the angle alpha, fixing beta, we saw a phase shift in the sinusodial\n",
    "    - send in horizontally polarized light (from setting the first half wave plate at the default) then rotate $\\alpha$ and $\\beta$ waveplates so that they each independently attain maximum count rate. \n",
    "    - half wave plate need to adjust angle as half of the actual since that's the angle that the optical axis is adjusted. \n",
    "    - Calibration showed that the optical axes is zeroed when $\\alpha$ = 140, $\\beta$ = 60.\n",
    "\n",
    "- Calibrating the phasor : \n",
    "    - rotate until maximize coincidence count \n",
    "    - obtained values 280 deg \n"
   ]
  },
  {
   "cell_type": "code",
   "execution_count": 45,
   "metadata": {
    "collapsed": false
   },
   "outputs": [
    {
     "data": {
      "text/plain": [
       "<matplotlib.legend.Legend at 0x1132d4e50>"
      ]
     },
     "execution_count": 45,
     "metadata": {},
     "output_type": "execute_result"
    },
    {
     "data": {
      "image/png": "[encoded data removed]",
      "text/plain": [
       "<matplotlib.figure.Figure at 0x1132a1dd0>"
      ]
     },
     "metadata": {},
     "output_type": "display_data"
    }
   ],
   "source": [
    "prob_list = []\n",
    "prob_list2 = []\n",
    "alpha_range=np.arange(0,360,10)\n",
    "for alpha in alpha_range: \n",
    "    prob_list.append(compute_prob(1./sqrt(2),1./sqrt(2),alpha,0))\n",
    "    prob_list2.append(compute_prob(sqrt(3.)/2,1./2,alpha,0))\n",
    "alpha_range=np.arange(0,360,10)\n",
    "shift = -10.0\n",
    "count_exp = np.array([80.76, 89.14,62.5,33.18, 10.59,\n",
    "                      2.61,10.39,28.79,57.38,67.76])\n",
    "yerr = np.array([30, 20,20,20, 20, 20,10,10,10,20])\n",
    "plt.xlabel(\"Angle\",fontsize=14)\n",
    "plt.ylabel(\"Probability\",fontsize=14)\n",
    "# plt.plot(alpha_range[:10]*2+shift,count_exp/150.,'.')\n",
    "plt.plot(alpha_range,prob_list,'-',label=\"Theory\")\n",
    "plt.plot(alpha_range[:10]*2,count_exp/150.,'x', linewidth=12, \n",
    "         label= \"Experiment (Original)\",color=\"k\")\n",
    "plt.errorbar(alpha_range[:10]*2+shift,count_exp/150.,yerr=yerr/150.,\n",
    "             fmt='.', label= \"Experiment (Shifted)\",color=\"red\")\n",
    "\n",
    "# plt.plot(alpha_range,prob_list2,'-',label=\"bad\")\n",
    "plt.xlim(0,180)\n",
    "plt.legend(loc='upper right',prop={'size':11},numpoints=1)"
   ]
  },
  {
   "cell_type": "code",
   "execution_count": 18,
   "metadata": {
    "collapsed": false
   },
   "outputs": [],
   "source": [
    "def compute_prob(c_h, c_v, alpha_deg, beta_deg):\n",
    "    beta = np.deg2rad(beta_deg)\n",
    "    alpha = np.deg2rad(alpha_deg)\n",
    "    P =(c_h*cos(alpha)*cos(beta)+c_v*sin(alpha)*sin(beta) )**2\n",
    "    return P \n",
    "def E(a,b):\n",
    "    ap = a+pi/2.\n",
    "    bp = b+pi/2.\n",
    "#     print \"a,b: \",a,b\n",
    "    E = P(a,b)+P(ap,bp)-P(ap,b)-P(a,bp)\n",
    "    return E\n",
    "def P(alpha, beta):\n",
    "    P =0.5*(cos(beta-alpha))**2\n",
    "    return P "
   ]
  },
  {
   "cell_type": "markdown",
   "metadata": {},
   "source": [
    "## Theoretical Values \n",
    "\n",
    "- assuming we have a perfect Bell state (i.e. C1 = C2= $\\frac{1}{\\sqrt{2}}$) \n",
    "$$ S = E(\\alpha,\\beta)-E(\\alpha,\\beta')+E(\\alpha',\\beta)+E(\\alpha',\\beta')= 2\\sqrt{2}\\approx 2.828$$"
   ]
  },
  {
   "cell_type": "code",
   "execution_count": 32,
   "metadata": {
    "collapsed": false
   },
   "outputs": [
    {
     "name": "stdout",
     "output_type": "stream",
     "text": [
      "2.82842712475\n"
     ]
    }
   ],
   "source": [
    "a1= -pi/4\n",
    "a2 = 0.\n",
    "b1 = -pi/8\n",
    "b2 =  pi/8\n",
    "print E(a1,b1)-E(a1,b2)+ E(a2,b1)+E(a2,b2)"
   ]
  },
  {
   "cell_type": "markdown",
   "metadata": {},
   "source": [
    "## Experimental Values "
   ]
  },
  {
   "cell_type": "markdown",
   "metadata": {},
   "source": [
    "E(a1,b2) = E(-45,22.5)"
   ]
  },
  {
   "cell_type": "code",
   "execution_count": 35,
   "metadata": {
    "collapsed": false
   },
   "outputs": [
    {
     "name": "stdout",
     "output_type": "stream",
     "text": [
      "0.756934152022\n"
     ]
    }
   ],
   "source": [
    "N = np.array([163.5,251.4,36,21.4])\n",
    "print float(N[0]+N[1]-N[2]-N[3])/(sum(N))"
   ]
  },
  {
   "cell_type": "markdown",
   "metadata": {},
   "source": [
    "E(a1,b1)=E(-45,-22.5)"
   ]
  },
  {
   "cell_type": "code",
   "execution_count": 36,
   "metadata": {
    "collapsed": false
   },
   "outputs": [
    {
     "name": "stdout",
     "output_type": "stream",
     "text": [
      "0.76954035162\n"
     ]
    }
   ],
   "source": [
    "N = np.array([168.0,249.7,27.5,26.9])\n",
    "print float(N[0]+N[1]-N[2]-N[3])/(sum(N))"
   ]
  },
  {
   "cell_type": "markdown",
   "metadata": {},
   "source": [
    "E(0,22.5)"
   ]
  },
  {
   "cell_type": "code",
   "execution_count": 37,
   "metadata": {
    "collapsed": false
   },
   "outputs": [
    {
     "name": "stdout",
     "output_type": "stream",
     "text": [
      "-0.790970933828\n"
     ]
    }
   ],
   "source": [
    "N = np.array([29.8,20.9,168.6,265.8])\n",
    "print float(N[0]+N[1]-N[2]-N[3])/(sum(N))"
   ]
  },
  {
   "cell_type": "markdown",
   "metadata": {},
   "source": [
    "E(0,-22.5)"
   ]
  },
  {
   "cell_type": "code",
   "execution_count": 38,
   "metadata": {
    "collapsed": false
   },
   "outputs": [
    {
     "name": "stdout",
     "output_type": "stream",
     "text": [
      "0.773344302756\n"
     ]
    }
   ],
   "source": [
    "N = np.array([249,182.1,23.9,31.2 ])\n",
    "print float(N[0]+N[1]-N[2]-N[3])/(sum(N))"
   ]
  },
  {
   "cell_type": "code",
   "execution_count": 54,
   "metadata": {
    "collapsed": false
   },
   "outputs": [
    {
     "name": "stdout",
     "output_type": "stream",
     "text": [
      "Percent Error:  18.5518384536 % \n"
     ]
    }
   ],
   "source": [
    "val = 0.76954035162+0.756934152022+0.790970933828+0.773344302756\n",
    "print \"Percent Error: \", abs(2*sqrt(2) - val)/2*sqrt(2) *100. , \"% \""
   ]
  },
  {
   "cell_type": "code",
   "execution_count": 47,
   "metadata": {
    "collapsed": false
   },
   "outputs": [
    {
     "data": {
      "text/plain": [
       "3.090789740226"
      ]
     },
     "execution_count": 47,
     "metadata": {},
     "output_type": "execute_result"
    }
   ],
   "source": [
    "0.756934152022 -- 0.790970933828+ 0.76954035162+ 0.773344302756"
   ]
  },
  {
   "cell_type": "markdown",
   "metadata": {
    "collapsed": true
   },
   "source": [
    "# Error Propagation "
   ]
  },
  {
   "cell_type": "markdown",
   "metadata": {},
   "source": [
    "The equations that we are using in this experiment is : \n",
    "$P_{vv} = \\frac{1}{2} cos^2 (\\beta-\\alpha)$\n",
    "\n",
    "Using error propagation, we can derive the errors for P, E, which gives us the measure of uncertianty on S: \n",
    "$$\\delta P (\\alpha, \\beta) = \\delta \\alpha \\sqrt{\\beta^2+\\alpha^2} cos(\\beta - \\alpha) sin(\\beta -\\alpha)$$\n",
    "\n",
    "$$\\delta E(\\alpha, \\beta) = \\sqrt{\\delta P_{vv}^2+\\delta P_{HH}^2+\\delta P_{Hv}^2+\\delta P_{vH}^2}$$\n",
    "\n",
    "$$\\delta S (\\alpha, \\beta) = \\sqrt{\\delta E_{ab}^2+\\delta E_{ab'}^2+ \\delta E_{a'b}^2+ \\delta E_{a'b'}^2}$$\n",
    "\n",
    "$$\\delta S = 0.0137$$\n",
    "\n"
   ]
  },
  {
   "cell_type": "code",
   "execution_count": 4,
   "metadata": {
    "collapsed": false
   },
   "outputs": [],
   "source": [
    "d_alpha =np.deg2rad(1)\n",
    "d_beta =np.deg2rad(1)\n",
    "a = -45.\n",
    "a1 = 0.\n",
    "b = -22.5\n",
    "b1=22.5\n",
    "def dP(alpha,beta):\n",
    "    alpha = np.deg2rad(alpha)\n",
    "    beta = np.deg2rad(beta)\n",
    "    return d_alpha*sqrt(beta**2+alpha**2)*cos(beta-alpha)*sin(beta-alpha)\n",
    "def dE(a,b):\n",
    "    return sqrt(dP(a,b)**2+dP(a,b1)**2+dP(a1,b)**2+dP(a1,b1)**2)\n",
    "def dS(a,b):\n",
    "    return sqrt(dE(a,b)**2+dE(a,b1)**2+dE(a1,b)**2+dE(a1,b1)**2)"
   ]
  },
  {
   "cell_type": "code",
   "execution_count": 11,
   "metadata": {
    "collapsed": false
   },
   "outputs": [
    {
     "data": {
      "text/plain": [
       "0.013707783890401889"
      ]
     },
     "execution_count": 11,
     "metadata": {},
     "output_type": "execute_result"
    }
   ],
   "source": [
    "sqrt(dE(a,b)**2+dE(a,b1)**2+dE(a1,b)**2+dE(a1,b1)**2)"
   ]
  },
  {
   "cell_type": "markdown",
   "metadata": {},
   "source": [
    "# Conclusion "
   ]
  },
  {
   "cell_type": "markdown",
   "metadata": {},
   "source": [
    "We obtained a value of $S = 3.09 \\pm 0.0137$ from the 16 coincident rate measurement. Even though we showed that $S\\geq2$ which disproves local hidden variable theory, according to the CHSH inequality. We also were unable to satisfy the quantum mechanics condition, based on calculating the probability of a pure Bell-state, of S$\\leq 2\\sqrt{2}$."
   ]
  },
  {
   "cell_type": "markdown",
   "metadata": {},
   "source": [
    "Other possible sources of error includes $\\delta N$ which is the uncertainty in the number of counts from the avalanche photodiode and detector apparatus. By looking at the coincidence counts on the LabView program we estimate $\\delta N \\approx$ 10, which may add to compensate for the error."
   ]
  }
 ],
 "metadata": {
  "kernelspec": {
   "display_name": "Python 2",
   "language": "python",
   "name": "python2"
  },
  "language_info": {
   "codemirror_mode": {
    "name": "ipython",
    "version": 2
   },
   "file_extension": ".py",
   "mimetype": "text/x-python",
   "name": "python",
   "nbconvert_exporter": "python",
   "pygments_lexer": "ipython2",
   "version": "2.7.6"
  }
 },
 "nbformat": 4,
 "nbformat_minor": 0
}
